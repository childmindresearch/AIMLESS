{
 "cells": [
  {
   "cell_type": "code",
   "execution_count": 1,
   "metadata": {},
   "outputs": [],
   "source": [
    "from hierarchy_building import generate_hierarchy"
   ]
  },
  {
   "cell_type": "code",
   "execution_count": 2,
   "metadata": {},
   "outputs": [
    {
     "name": "stdout",
     "output_type": "stream",
     "text": [
      "1\n",
      "2\n",
      "completed all  2  iterations\n",
      "1\n",
      "2\n",
      "completed all  2  iterations\n",
      "1\n",
      "2\n",
      "completed all  2  iterations\n",
      "1\n",
      "2\n",
      "completed all  2  iterations\n",
      "1\n",
      "2\n",
      "completed all  2  iterations\n",
      "1\n",
      "2\n",
      "completed all  2  iterations\n",
      "1\n",
      "2\n",
      "completed all  2  iterations\n",
      "1\n",
      "2\n",
      "completed all  2  iterations\n",
      "1\n",
      "2\n",
      "completed all  2  iterations\n",
      "1\n",
      "2\n",
      "completed all  2  iterations\n"
     ]
    }
   ],
   "source": [
    "model, result_df = generate_hierarchy(top_level='generated', max_iterations=2, client = 'anthropic', top_levels_separate=True).run()"
   ]
  }
 ],
 "metadata": {
  "kernelspec": {
   "display_name": "aimless-env",
   "language": "python",
   "name": "python3"
  },
  "language_info": {
   "codemirror_mode": {
    "name": "ipython",
    "version": 3
   },
   "file_extension": ".py",
   "mimetype": "text/x-python",
   "name": "python",
   "nbconvert_exporter": "python",
   "pygments_lexer": "ipython3",
   "version": "3.11.2"
  }
 },
 "nbformat": 4,
 "nbformat_minor": 2
}
