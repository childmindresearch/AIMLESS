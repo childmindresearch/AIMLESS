{
 "cells": [
  {
   "cell_type": "code",
   "execution_count": 1,
   "id": "7148a01b-98c4-45bd-a6bc-b677eca1fbed",
   "metadata": {},
   "outputs": [],
   "source": [
    "import os\n",
    "import pandas as pd\n",
    "import numpy as np\n",
    "import json"
   ]
  },
  {
   "cell_type": "code",
   "execution_count": 2,
   "id": "7225db78-2808-4526-b9ae-80f3f69c8f89",
   "metadata": {},
   "outputs": [
    {
     "name": "stderr",
     "output_type": "stream",
     "text": [
      "/Library/Frameworks/Python.framework/Versions/3.11/lib/python3.11/site-packages/sentence_transformers/cross_encoder/CrossEncoder.py:11: TqdmExperimentalWarning: Using `tqdm.autonotebook.tqdm` in notebook mode. Use `tqdm.tqdm` instead to force console mode (e.g. in jupyter console)\n",
      "  from tqdm.autonotebook import tqdm, trange\n"
     ]
    }
   ],
   "source": [
    "from sentence_transformers import SentenceTransformer, util\n",
    "import torch"
   ]
  },
  {
   "cell_type": "code",
   "execution_count": 3,
   "id": "ad8ad7aa-8ee1-40f2-bac3-57dc41fd54e1",
   "metadata": {},
   "outputs": [],
   "source": [
    "#Clean Data for Processing\n",
    "\n",
    "def LoadandProcess(fp):\n",
    "    df=pd.read_csv(fp)\n",
    "    df.fillna(value='')\n",
    "    source=df.columns.to_list()\n",
    "    source.pop()\n",
    "    \n",
    "    df=df.astype(str)\n",
    "    df[\"TextSet\"] = df[source].agg('|'.join, axis=1)\n",
    "    df['TextSet2'] = df['TextSet'].str.replace('|nan', '')\n",
    "    X=df['TextSet2'].tolist()\n",
    "    y=df['description'].tolist()\n",
    "    return (source,X,y)"
   ]
  },
  {
   "cell_type": "code",
   "execution_count": 4,
   "id": "07913ac9-a1a6-47bb-9b2e-6f75c2adcb98",
   "metadata": {
    "scrolled": true
   },
   "outputs": [],
   "source": [
    "# Extract groupings of text for level comparisons\n",
    "\n",
    "def TextCleanup(source,X,y):\n",
    "    Master_dict=dict()\n",
    "    \n",
    "    #Iterate through depth of the existing levels\n",
    "    for depth in range(1,len(source)+1):\n",
    "        # Iterate through the full tree, accumulating text for each pass to assign the the category\n",
    "        for idx,item in enumerate(X):\n",
    "            current_item=item.split('|')[:depth]\n",
    "            ci=\"|\".join(current_item)\n",
    "            \n",
    "            #first see if item exist, if not create new list\n",
    "            if Master_dict.get(ci) is None:\n",
    "                newlist=[]\n",
    "                newlist.append(y[idx])\n",
    "                Master_dict[ci]=newlist\n",
    "            # otherwise, if exists- append to existing list\n",
    "            else:\n",
    "                current_list=Master_dict.get(ci)\n",
    "                current_list.append(y[idx])\n",
    "                Master_dict[ci]=list(set(current_list))\n",
    "    return Master_dict\n"
   ]
  },
  {
   "cell_type": "code",
   "execution_count": 8,
   "id": "699fc1fa-9808-460f-9392-d5e6c64c5e6b",
   "metadata": {},
   "outputs": [
    {
     "name": "stdout",
     "output_type": "stream",
     "text": [
      "687\n"
     ]
    }
   ],
   "source": [
    "fp='./results/generated_separate_openai_hierarchy_max5_3.csv'\n",
    "source,X,y=LoadandProcess(fp)\n",
    "Master_dict=TextCleanup(source,X,y)\n",
    "print(len(Master_dict))"
   ]
  },
  {
   "cell_type": "markdown",
   "id": "5ac777f3-5e71-4d3a-ab3a-520c1f58df80",
   "metadata": {},
   "source": [
    "# Embeddings"
   ]
  },
  {
   "cell_type": "code",
   "execution_count": 11,
   "id": "ad3cdb38-07f0-418b-ac80-adc79c593cd0",
   "metadata": {},
   "outputs": [
    {
     "name": "stderr",
     "output_type": "stream",
     "text": [
      "/Library/Frameworks/Python.framework/Versions/3.11/lib/python3.11/site-packages/huggingface_hub/file_download.py:1150: FutureWarning: `resume_download` is deprecated and will be removed in version 1.0.0. Downloads always resume when possible. If you want to force a new download, use `force_download=True`.\n",
      "  warnings.warn(\n"
     ]
    }
   ],
   "source": [
    "# Load embedding model\n",
    "model = SentenceTransformer('sentence-transformers/all-MiniLM-L6-v2')\n",
    "\n",
    "def getEmbeddings(Master_dict):\n",
    "    EmbedDict=dict()\n",
    "    for k,v in Master_dict.items():\n",
    "        texts=' '.join(list(v))\n",
    "        embeddings = model.encode(texts, convert_to_tensor=False)\n",
    "        EmbedDict[k]=embeddings.tolist()\n",
    "    return EmbedDict"
   ]
  },
  {
   "cell_type": "markdown",
   "id": "c1527b7d-ef6d-428b-b8ce-a482b89f7bd0",
   "metadata": {},
   "source": [
    "## Embed Text and save to disk"
   ]
  },
  {
   "cell_type": "code",
   "execution_count": 13,
   "id": "166ebb61-c083-42a1-8651-4ecd68c469d9",
   "metadata": {},
   "outputs": [],
   "source": [
    "\n",
    "\n",
    "for file in os.listdir('./results/'):\n",
    "    if file[-4:]=='.csv':\n",
    "        fp=os.path.join('./results',file)\n",
    "        source,X,y=LoadandProcess(fp)\n",
    "        Master_dict=TextCleanup(source,X,y)\n",
    "        filename=file[:-4]+'_Corpus.json'\n",
    "        fsave=os.path.join(os.getcwd(),'Embeddings',filename)\n",
    "        with open(fsave, \"w\") as f:\n",
    "            json.dump(Master_dict, f, indent=4)\n",
    "\n",
    "        Embeddings=getEmbeddings(Master_dict)\n",
    "        filename2=file[:-4]+'_Embeddings.json'\n",
    "        fsave=os.path.join(os.getcwd(),'Embeddings',filename2)\n",
    "        with open(fsave, \"w\") as f:\n",
    "            json.dump(Embeddings, f, indent=4)\n"
   ]
  },
  {
   "cell_type": "markdown",
   "id": "3ac8e229-b2ea-4592-b525-8848988e4147",
   "metadata": {},
   "source": [
    "# Compare Embeddings"
   ]
  },
  {
   "cell_type": "code",
   "execution_count": 21,
   "id": "932fd9fe-97ea-4033-a842-5848569a76cc",
   "metadata": {
    "scrolled": true
   },
   "outputs": [
    {
     "name": "stdout",
     "output_type": "stream",
     "text": [
      "generated_separate_anthropic_hierarchy_max10_1_Embeddings.json\n",
      "generated_separate_anthropic_hierarchy_max5_2_Embeddings.json\n",
      "psych_openai_hierarchy_Embeddings.json\n",
      "generated_separate_openai_hierarchy_max10_2_Embeddings.json\n",
      "generated_separate_openai_hierarchy_max5_Embeddings.json\n",
      "generated_separate_anthropic_hierarchy_max5_3_Embeddings.json\n",
      "HiTOP_openai_hierarchy_Embeddings.json\n",
      "DSM_openai_hierarchy_Embeddings.json\n",
      "generated_separate_openai_hierarchy_max10_1_Embeddings.json\n",
      "generated_separate_anthropic_hierarchy_max5_1_Embeddings.json\n",
      "generated_separate_openai_hierarchy_max5_4_Embeddings.json\n",
      "HiTOP_hierarchy_Embeddings.json\n",
      "generated_separate_openai_hierarchy_max5_3_Embeddings.json\n",
      "generated_separate_anthropic_hierarchy_max10_2_Embeddings.json\n",
      "rdoc_anthropic_hierarchy_Embeddings.json\n",
      "generated_separate_openai_hierarchy_max5_2_Embeddings.json\n",
      "generated_separate_anthropic_hierarchy_max10_3_Embeddings.json\n",
      "generated_separate_openai_hierarchy_max5_5_Embeddings.json\n",
      "RDoC_hierarchy_Embeddings.json\n"
     ]
    }
   ],
   "source": [
    "Embeddings=dict()\n",
    "\n",
    "\n",
    "for file in os.listdir('./Embeddings/'):\n",
    "    if file[-15:]=='Embeddings.json':\n",
    "        print(file)\n",
    "        fp=os.path.join('./Embeddings',file)\n",
    "        with open(fp) as f:\n",
    "            Embedding = json.load(f)\n",
    "        Embeddings[file[:-16]]=Embedding"
   ]
  },
  {
   "cell_type": "code",
   "execution_count": 22,
   "id": "056a9f8b-33b9-43c8-8ac9-738da3f6c784",
   "metadata": {},
   "outputs": [
    {
     "data": {
      "text/plain": [
       "dict_keys(['generated_separate_anthropic_hierarchy_max10_1', 'generated_separate_anthropic_hierarchy_max5_2', 'psych_openai_hierarchy', 'generated_separate_openai_hierarchy_max10_2', 'generated_separate_openai_hierarchy_max5', 'generated_separate_anthropic_hierarchy_max5_3', 'HiTOP_openai_hierarchy', 'DSM_openai_hierarchy', 'generated_separate_openai_hierarchy_max10_1', 'generated_separate_anthropic_hierarchy_max5_1', 'generated_separate_openai_hierarchy_max5_4', 'HiTOP_hierarchy', 'generated_separate_openai_hierarchy_max5_3', 'generated_separate_anthropic_hierarchy_max10_2', 'rdoc_anthropic_hierarchy', 'generated_separate_openai_hierarchy_max5_2', 'generated_separate_anthropic_hierarchy_max10_3', 'generated_separate_openai_hierarchy_max5_5', 'RDoC_hierarchy'])"
      ]
     },
     "execution_count": 22,
     "metadata": {},
     "output_type": "execute_result"
    }
   ],
   "source": [
    "Embeddings.keys()"
   ]
  },
  {
   "cell_type": "code",
   "execution_count": null,
   "id": "c3f1bb18-e777-4b54-ab01-15f86f0f3528",
   "metadata": {},
   "outputs": [],
   "source": [
    "# Pick two embeddings to compare:\n",
    "e1=Embeddings.get('generated_separate_anthropic_hierarchy_max10_1')\n",
    "e2=Embeddings.get('generated_separate_anthropic_hierarchy_max10_2')\n"
   ]
  },
  {
   "cell_type": "code",
   "execution_count": 62,
   "id": "2d96473e-bb18-4407-8535-a394a429a70c",
   "metadata": {
    "scrolled": true
   },
   "outputs": [
    {
     "data": {
      "text/plain": [
       "dict_keys(['Cognitive Function', 'Emotion Regulation', 'Social Interaction', 'Communication and Language', 'Behavioral Control', 'Physical Health and Activity', 'Attention and Perception', 'Adaptive Functioning and Life Skills', 'Motivation and Goal-Directed Behavior', 'Self-Concept and Identity', 'Cognitive Function|Memory', 'Cognitive Function|Executive Function', 'Cognitive Function|Learning', 'Cognitive Function|Processing Speed', 'Cognitive Function|Reasoning and Problem Solving', 'Emotion Regulation|Emotional Awareness', 'Emotion Regulation|Emotional Expression', 'Emotion Regulation|Emotional Control', 'Emotion Regulation|Emotional Recovery', 'Social Interaction|Social Awareness', 'Social Interaction|Social Communication', 'Social Interaction|Social Relationships', 'Social Interaction|Social Initiative', 'Communication and Language|Receptive Language', 'Communication and Language|Expressive Language', 'Communication and Language|Pragmatic Communication', 'Communication and Language|Non-verbal Communication', 'Behavioral Control|Impulse Control', 'Behavioral Control|Self-Regulation', 'Behavioral Control|Response Inhibition', 'Behavioral Control|Behavioral Flexibility', 'Physical Health and Activity|Motor Function', 'Physical Health and Activity|Physical Fitness', 'Physical Health and Activity|Sleep and Rest', 'Physical Health and Activity|Physical Development', 'Physical Health and Activity|Sensory Integration', 'Attention and Perception|Attention', 'Attention and Perception|Sensory Processing', 'Attention and Perception|Perceptual Organization', 'Adaptive Functioning and Life Skills|Daily Living Skills', 'Adaptive Functioning and Life Skills|Community Navigation', 'Adaptive Functioning and Life Skills|Financial Management', 'Adaptive Functioning and Life Skills|Safety Awareness', 'Adaptive Functioning and Life Skills|Time Management', 'Adaptive Functioning and Life Skills|Problem-Solving Skills', 'Motivation and Goal-Directed Behavior|Intrinsic Motivation', 'Motivation and Goal-Directed Behavior|Extrinsic Motivation', 'Motivation and Goal-Directed Behavior|Goal Setting and Planning', 'Motivation and Goal-Directed Behavior|Persistence and Effort', 'Motivation and Goal-Directed Behavior|Reward Processing', 'Self-Concept and Identity|Personal Identity', 'Self-Concept and Identity|Self-Evaluation', 'Self-Concept and Identity|Social Identity', 'Self-Concept and Identity|Temporal Self-Concept', 'Self-Concept and Identity|Self-Awareness', 'Cognitive Function|Memory|Working Memory', 'Cognitive Function|Memory|Long-term Memory', 'Cognitive Function|Memory|Short-term Memory', 'Cognitive Function|Executive Function|Cognitive Flexibility', 'Cognitive Function|Executive Function|Inhibitory Control', 'Cognitive Function|Executive Function|Planning and Organization', 'Cognitive Function|Learning|Skill Acquisition', 'Cognitive Function|Learning|Knowledge Formation', 'Cognitive Function|Learning|Associative Learning', 'Cognitive Function|Processing Speed|Mental Processing Speed', 'Cognitive Function|Processing Speed|Psychomotor Speed', 'Cognitive Function|Reasoning and Problem Solving|Abstract Reasoning', 'Cognitive Function|Reasoning and Problem Solving|Logical Reasoning', 'Cognitive Function|Reasoning and Problem Solving|Spatial Reasoning', 'Emotion Regulation|Emotional Awareness|Self-Emotional Awareness', 'Emotion Regulation|Emotional Awareness|Social-Emotional Awareness', 'Emotion Regulation|Emotional Expression|Verbal Expression', 'Emotion Regulation|Emotional Expression|Non-verbal Expression', 'Emotion Regulation|Emotional Control|Response Inhibition', 'Emotion Regulation|Emotional Control|Emotional Flexibility', 'Emotion Regulation|Emotional Recovery|Self-Soothing', 'Emotion Regulation|Emotional Recovery|Support Seeking', 'Social Interaction|Social Awareness|Emotion Recognition', 'Social Interaction|Social Awareness|Social Context Understanding', 'Social Interaction|Social Awareness|Perspective Taking', 'Social Interaction|Social Communication|Verbal Social Communication', 'Social Interaction|Social Communication|Non-verbal Social Communication', 'Social Interaction|Social Communication|Social Reciprocity', 'Social Interaction|Social Relationships|Relationship Formation', 'Social Interaction|Social Relationships|Relationship Maintenance', 'Social Interaction|Social Relationships|Conflict Resolution', 'Social Interaction|Social Initiative|Social Motivation', 'Social Interaction|Social Initiative|Social Confidence', 'Social Interaction|Social Initiative|Social Engagement', 'Communication and Language|Receptive Language|Auditory Comprehension', 'Communication and Language|Receptive Language|Reading Comprehension', 'Communication and Language|Receptive Language|Sign Language Comprehension', 'Communication and Language|Expressive Language|Verbal Expression', 'Communication and Language|Expressive Language|Written Expression', 'Communication and Language|Expressive Language|Sign Language Production', 'Communication and Language|Pragmatic Communication|Social Context Understanding', 'Communication and Language|Pragmatic Communication|Conversation Skills', 'Communication and Language|Pragmatic Communication|Communication Intent', 'Communication and Language|Non-verbal Communication|Gesture Use and Understanding', 'Communication and Language|Non-verbal Communication|Facial Expression', 'Communication and Language|Non-verbal Communication|Body Language', 'Behavioral Control|Impulse Control|Delay of Gratification', 'Behavioral Control|Impulse Control|Action Restraint', 'Behavioral Control|Self-Regulation|Goal-Directed Regulation', 'Behavioral Control|Self-Regulation|Situational Adaptation', 'Behavioral Control|Response Inhibition|Motor Inhibition', 'Behavioral Control|Response Inhibition|Cognitive Inhibition', 'Behavioral Control|Behavioral Flexibility|Rule Shifting', 'Behavioral Control|Behavioral Flexibility|Strategic Adaptation', 'Physical Health and Activity|Motor Function|Gross Motor Skills', 'Physical Health and Activity|Motor Function|Fine Motor Skills', 'Physical Health and Activity|Motor Function|Motor Planning', 'Physical Health and Activity|Physical Fitness|Muscular Function', 'Physical Health and Activity|Physical Fitness|Cardiovascular Function', 'Physical Health and Activity|Physical Fitness|Physical Flexibility', 'Physical Health and Activity|Sleep and Rest|Sleep Pattern', 'Physical Health and Activity|Sleep and Rest|Sleep Quality', 'Physical Health and Activity|Physical Development|Growth Progress', 'Physical Health and Activity|Physical Development|Physical Maturation', 'Physical Health and Activity|Sensory Integration|Sensory Processing', 'Physical Health and Activity|Sensory Integration|Sensory-Motor Integration', 'Physical Health and Activity|Sensory Integration|Body Awareness', 'Attention and Perception|Attention|Sustained Attention', 'Attention and Perception|Attention|Selective Attention', 'Attention and Perception|Attention|Divided Attention', 'Attention and Perception|Sensory Processing|Visual Processing', 'Attention and Perception|Sensory Processing|Auditory Processing', 'Attention and Perception|Sensory Processing|Tactile Processing', 'Attention and Perception|Perceptual Organization|Pattern Recognition', 'Attention and Perception|Perceptual Organization|Spatial Processing', 'Attention and Perception|Perceptual Organization|Object Recognition', 'Adaptive Functioning and Life Skills|Daily Living Skills|Personal Care', 'Adaptive Functioning and Life Skills|Daily Living Skills|Household Management', 'Adaptive Functioning and Life Skills|Daily Living Skills|Health Management', 'Adaptive Functioning and Life Skills|Community Navigation|Transportation Use', 'Adaptive Functioning and Life Skills|Community Navigation|Community Resource Utilization', 'Adaptive Functioning and Life Skills|Financial Management|Money Handling', 'Adaptive Functioning and Life Skills|Financial Management|Financial Planning', 'Adaptive Functioning and Life Skills|Safety Awareness|Risk Recognition', 'Adaptive Functioning and Life Skills|Safety Awareness|Emergency Response', 'Adaptive Functioning and Life Skills|Time Management|Schedule Management', 'Adaptive Functioning and Life Skills|Time Management|Task Prioritization', 'Adaptive Functioning and Life Skills|Problem-Solving Skills|Problem Identification', 'Adaptive Functioning and Life Skills|Problem-Solving Skills|Solution Generation', 'Adaptive Functioning and Life Skills|Problem-Solving Skills|Decision Implementation', 'Motivation and Goal-Directed Behavior|Intrinsic Motivation|Interest-Based Motivation', 'Motivation and Goal-Directed Behavior|Intrinsic Motivation|Mastery Motivation', 'Motivation and Goal-Directed Behavior|Intrinsic Motivation|Autonomy-Driven Motivation', 'Motivation and Goal-Directed Behavior|Extrinsic Motivation|Reward-Based Motivation', 'Motivation and Goal-Directed Behavior|Extrinsic Motivation|Social Motivation', 'Motivation and Goal-Directed Behavior|Extrinsic Motivation|Consequence-Based Motivation', 'Motivation and Goal-Directed Behavior|Goal Setting and Planning|Goal Identification', 'Motivation and Goal-Directed Behavior|Goal Setting and Planning|Strategic Planning', 'Motivation and Goal-Directed Behavior|Goal Setting and Planning|Goal Adjustment', 'Motivation and Goal-Directed Behavior|Persistence and Effort|Task Persistence', 'Motivation and Goal-Directed Behavior|Persistence and Effort|Challenge Response', 'Motivation and Goal-Directed Behavior|Persistence and Effort|Delayed Gratification', 'Motivation and Goal-Directed Behavior|Reward Processing|Reward Recognition', 'Motivation and Goal-Directed Behavior|Reward Processing|Reward Anticipation', 'Motivation and Goal-Directed Behavior|Reward Processing|Reward Learning', 'Self-Concept and Identity|Personal Identity|Personal Values and Beliefs', 'Self-Concept and Identity|Personal Identity|Personality Traits', 'Self-Concept and Identity|Personal Identity|Personal Interests', 'Self-Concept and Identity|Self-Evaluation|Self-Esteem', 'Self-Concept and Identity|Self-Evaluation|Self-Efficacy', 'Self-Concept and Identity|Self-Evaluation|Self-Criticism', 'Self-Concept and Identity|Social Identity|Cultural Identity', 'Self-Concept and Identity|Social Identity|Role Identity', 'Self-Concept and Identity|Social Identity|Group Affiliation', 'Self-Concept and Identity|Temporal Self-Concept|Past Self-Recognition', 'Self-Concept and Identity|Temporal Self-Concept|Present Self-Understanding', 'Self-Concept and Identity|Temporal Self-Concept|Future Self-Projection', 'Self-Concept and Identity|Self-Awareness|Emotional Self-Awareness', 'Self-Concept and Identity|Self-Awareness|Behavioral Self-Awareness', 'Self-Concept and Identity|Self-Awareness|Interpersonal Impact Awareness', 'Cognitive Function|Memory|Working Memory|Verbal Working Memory', 'Cognitive Function|Memory|Working Memory|Visual-Spatial Working Memory', 'Cognitive Function|Memory|Long-term Memory|Episodic Memory', 'Cognitive Function|Memory|Long-term Memory|Semantic Memory', 'Cognitive Function|Memory|Long-term Memory|Procedural Memory', 'Cognitive Function|Memory|Short-term Memory|Auditory Short-term Memory', 'Cognitive Function|Memory|Short-term Memory|Visual Short-term Memory', 'Cognitive Function|Executive Function|Cognitive Flexibility|Task Switching', 'Cognitive Function|Executive Function|Cognitive Flexibility|Adaptive Problem Solving', 'Cognitive Function|Executive Function|Inhibitory Control|Response Inhibition', 'Cognitive Function|Executive Function|Inhibitory Control|Interference Control', 'Cognitive Function|Executive Function|Planning and Organization|Strategic Planning', 'Cognitive Function|Executive Function|Planning and Organization|Time Management', 'Cognitive Function|Learning|Skill Acquisition|Motor Learning', 'Cognitive Function|Learning|Skill Acquisition|Cognitive Skill Learning', 'Cognitive Function|Learning|Knowledge Formation|Conceptual Learning', 'Cognitive Function|Learning|Knowledge Formation|Factual Learning', 'Cognitive Function|Learning|Associative Learning|Pattern Recognition', 'Cognitive Function|Learning|Associative Learning|Conditional Learning', 'Cognitive Function|Processing Speed|Mental Processing Speed|Decision Speed', 'Cognitive Function|Processing Speed|Mental Processing Speed|Perceptual Speed', 'Cognitive Function|Processing Speed|Psychomotor Speed|Response Speed', 'Cognitive Function|Processing Speed|Psychomotor Speed|Movement Speed', 'Cognitive Function|Reasoning and Problem Solving|Abstract Reasoning|Pattern Recognition', 'Cognitive Function|Reasoning and Problem Solving|Abstract Reasoning|Conceptual Reasoning', 'Cognitive Function|Reasoning and Problem Solving|Logical Reasoning|Deductive Reasoning', 'Cognitive Function|Reasoning and Problem Solving|Logical Reasoning|Inductive Reasoning', 'Cognitive Function|Reasoning and Problem Solving|Spatial Reasoning|Mental Rotation', 'Cognitive Function|Reasoning and Problem Solving|Spatial Reasoning|Spatial Visualization', 'Emotion Regulation|Emotional Awareness|Self-Emotional Awareness|Emotional Identification', 'Emotion Regulation|Emotional Awareness|Self-Emotional Awareness|Emotional Understanding', 'Emotion Regulation|Emotional Awareness|Social-Emotional Awareness|Emotional Cue Recognition', 'Emotion Regulation|Emotional Awareness|Social-Emotional Awareness|Contextual Understanding', 'Emotion Regulation|Emotional Expression|Verbal Expression|Emotional Vocabulary', 'Emotion Regulation|Emotional Expression|Verbal Expression|Expression Timing', 'Emotion Regulation|Emotional Expression|Non-verbal Expression|Facial Expression Control', 'Emotion Regulation|Emotional Expression|Non-verbal Expression|Body Language Management', 'Emotion Regulation|Emotional Control|Response Inhibition|Impulse Control', 'Emotion Regulation|Emotional Control|Response Inhibition|Response Delay', 'Emotion Regulation|Emotional Control|Emotional Flexibility|Cognitive Reappraisal', 'Emotion Regulation|Emotional Control|Emotional Flexibility|Adaptive Response', 'Emotion Regulation|Emotional Recovery|Self-Soothing|Relaxation Techniques', 'Emotion Regulation|Emotional Recovery|Self-Soothing|Emotional Processing', 'Emotion Regulation|Emotional Recovery|Support Seeking|Help Recognition', 'Emotion Regulation|Emotional Recovery|Support Seeking|Support Utilization', 'Social Interaction|Social Awareness|Emotion Recognition|Facial Expression Recognition', 'Social Interaction|Social Awareness|Emotion Recognition|Vocal Affect Recognition', 'Social Interaction|Social Awareness|Emotion Recognition|Body Language Recognition', 'Social Interaction|Social Awareness|Social Context Understanding|Social Rules Recognition', 'Social Interaction|Social Awareness|Social Context Understanding|Situational Appropriateness', 'Social Interaction|Social Awareness|Social Context Understanding|Cultural Understanding', 'Social Interaction|Social Awareness|Perspective Taking|Cognitive Empathy', 'Social Interaction|Social Awareness|Perspective Taking|Theory of Mind', 'Social Interaction|Social Awareness|Perspective Taking|Social Inference', 'Social Interaction|Social Communication|Verbal Social Communication|Conversation Skills', 'Social Interaction|Social Communication|Verbal Social Communication|Social Language Use', 'Social Interaction|Social Communication|Verbal Social Communication|Verbal Expression', 'Social Interaction|Social Communication|Non-verbal Social Communication|Gesture Use', 'Social Interaction|Social Communication|Non-verbal Social Communication|Facial Expression Use', 'Social Interaction|Social Communication|Non-verbal Social Communication|Body Language Use', 'Social Interaction|Social Communication|Social Reciprocity|Turn-Taking', 'Social Interaction|Social Communication|Social Reciprocity|Social Responsiveness', 'Social Interaction|Social Communication|Social Reciprocity|Interactive Synchrony', 'Social Interaction|Social Relationships|Relationship Formation|Social Approach', 'Social Interaction|Social Relationships|Relationship Formation|Rapport Building', 'Social Interaction|Social Relationships|Relationship Formation|Social Bonding', 'Social Interaction|Social Relationships|Relationship Maintenance|Social Reliability', 'Social Interaction|Social Relationships|Relationship Maintenance|Emotional Support', 'Social Interaction|Social Relationships|Relationship Maintenance|Relationship Investment', 'Social Interaction|Social Relationships|Conflict Resolution|Problem Identification', 'Social Interaction|Social Relationships|Conflict Resolution|Compromise', 'Social Interaction|Social Relationships|Conflict Resolution|Reconciliation', 'Social Interaction|Social Initiative|Social Motivation|Social Interest', 'Social Interaction|Social Initiative|Social Motivation|Social Reward Sensitivity', 'Social Interaction|Social Initiative|Social Motivation|Social Goal Setting', 'Social Interaction|Social Initiative|Social Confidence|Social Self-Efficacy', 'Social Interaction|Social Initiative|Social Confidence|Social Anxiety Management', 'Social Interaction|Social Initiative|Social Confidence|Social Risk-Taking', 'Social Interaction|Social Initiative|Social Engagement|Social Attention', 'Social Interaction|Social Initiative|Social Engagement|Social Persistence', 'Social Interaction|Social Initiative|Social Engagement|Social Flexibility', 'Communication and Language|Receptive Language|Auditory Comprehension|Phonological Processing', 'Communication and Language|Receptive Language|Auditory Comprehension|Semantic Understanding', 'Communication and Language|Receptive Language|Auditory Comprehension|Syntactic Understanding', 'Communication and Language|Receptive Language|Reading Comprehension|Word Recognition', 'Communication and Language|Receptive Language|Reading Comprehension|Text Analysis', 'Communication and Language|Receptive Language|Reading Comprehension|Reading Fluency', 'Communication and Language|Receptive Language|Sign Language Comprehension|Sign Recognition', 'Communication and Language|Receptive Language|Sign Language Comprehension|Spatial-Sequential Processing', 'Communication and Language|Receptive Language|Sign Language Comprehension|Non-Manual Signal Understanding', 'Communication and Language|Expressive Language|Verbal Expression|Speech Production', 'Communication and Language|Expressive Language|Verbal Expression|Word Finding', 'Communication and Language|Expressive Language|Verbal Expression|Sentence Formation', 'Communication and Language|Expressive Language|Written Expression|Spelling', 'Communication and Language|Expressive Language|Written Expression|Written Organization', 'Communication and Language|Expressive Language|Written Expression|Writing Mechanics', 'Communication and Language|Expressive Language|Sign Language Production|Sign Formation', 'Communication and Language|Expressive Language|Sign Language Production|Sign Sequencing', 'Communication and Language|Expressive Language|Sign Language Production|Non-Manual Expression', 'Communication and Language|Pragmatic Communication|Social Context Understanding|Social Register', 'Communication and Language|Pragmatic Communication|Social Context Understanding|Cultural Context', 'Communication and Language|Pragmatic Communication|Social Context Understanding|Relationship Context', 'Communication and Language|Pragmatic Communication|Conversation Skills|Turn-Taking', 'Communication and Language|Pragmatic Communication|Conversation Skills|Topic Management', 'Communication and Language|Pragmatic Communication|Conversation Skills|Response Appropriateness', 'Communication and Language|Pragmatic Communication|Communication Intent|Purpose Recognition', 'Communication and Language|Pragmatic Communication|Communication Intent|Intent Expression', 'Communication and Language|Pragmatic Communication|Communication Intent|Communication Functions', 'Communication and Language|Non-verbal Communication|Gesture Use and Understanding|Symbolic Gestures', 'Communication and Language|Non-verbal Communication|Gesture Use and Understanding|Deictic Gestures', 'Communication and Language|Non-verbal Communication|Gesture Use and Understanding|Descriptive Gestures', 'Communication and Language|Non-verbal Communication|Facial Expression|Emotional Expression', 'Communication and Language|Non-verbal Communication|Facial Expression|Social Signals', 'Communication and Language|Non-verbal Communication|Facial Expression|Expression Integration', 'Communication and Language|Non-verbal Communication|Body Language|Posture', 'Communication and Language|Non-verbal Communication|Body Language|Proxemics', 'Communication and Language|Non-verbal Communication|Body Language|Movement Patterns', 'Behavioral Control|Impulse Control|Delay of Gratification|Reward-Based Decision Making', 'Behavioral Control|Impulse Control|Delay of Gratification|Persistence', 'Behavioral Control|Impulse Control|Action Restraint|Behavioral Inhibition', 'Behavioral Control|Impulse Control|Action Restraint|Impulse Recognition', 'Behavioral Control|Self-Regulation|Goal-Directed Regulation|Planning Implementation', 'Behavioral Control|Self-Regulation|Goal-Directed Regulation|Progress Monitoring', 'Behavioral Control|Self-Regulation|Situational Adaptation|Context Recognition', 'Behavioral Control|Self-Regulation|Situational Adaptation|Behavioral Adjustment', 'Behavioral Control|Response Inhibition|Motor Inhibition|Movement Control', 'Behavioral Control|Response Inhibition|Motor Inhibition|Motor Response Cancellation', 'Behavioral Control|Response Inhibition|Cognitive Inhibition|Attention Control', 'Behavioral Control|Response Inhibition|Cognitive Inhibition|Thought Suppression', 'Behavioral Control|Behavioral Flexibility|Rule Shifting|Rule Learning', 'Behavioral Control|Behavioral Flexibility|Rule Shifting|Rule Implementation', 'Behavioral Control|Behavioral Flexibility|Strategic Adaptation|Feedback Processing', 'Behavioral Control|Behavioral Flexibility|Strategic Adaptation|Strategy Switching', 'Physical Health and Activity|Motor Function|Gross Motor Skills|Balance and Stability', 'Physical Health and Activity|Motor Function|Gross Motor Skills|Locomotion', 'Physical Health and Activity|Motor Function|Gross Motor Skills|Object Control', 'Physical Health and Activity|Motor Function|Fine Motor Skills|Manual Dexterity', 'Physical Health and Activity|Motor Function|Fine Motor Skills|Hand-Eye Coordination', 'Physical Health and Activity|Motor Function|Fine Motor Skills|Grip Strength', 'Physical Health and Activity|Motor Function|Motor Planning|Movement Sequencing', 'Physical Health and Activity|Motor Function|Motor Planning|Motor Adaptation', 'Physical Health and Activity|Motor Function|Motor Planning|Movement Timing', 'Physical Health and Activity|Physical Fitness|Muscular Function|Muscle Strength', 'Physical Health and Activity|Physical Fitness|Muscular Function|Muscle Endurance', 'Physical Health and Activity|Physical Fitness|Muscular Function|Muscle Tone', 'Physical Health and Activity|Physical Fitness|Cardiovascular Function|Aerobic Capacity', 'Physical Health and Activity|Physical Fitness|Cardiovascular Function|Recovery Rate', 'Physical Health and Activity|Physical Fitness|Physical Flexibility|Joint Range of Motion', 'Physical Health and Activity|Physical Fitness|Physical Flexibility|Muscle Flexibility', 'Physical Health and Activity|Sleep and Rest|Sleep Pattern|Sleep Duration', 'Physical Health and Activity|Sleep and Rest|Sleep Pattern|Sleep Timing', 'Physical Health and Activity|Sleep and Rest|Sleep Quality|Sleep Continuity', 'Physical Health and Activity|Sleep and Rest|Sleep Quality|Sleep Onset', 'Physical Health and Activity|Physical Development|Growth Progress|Growth Rate', 'Physical Health and Activity|Physical Development|Growth Progress|Body Composition', 'Physical Health and Activity|Physical Development|Physical Maturation|Skeletal Maturation', 'Physical Health and Activity|Physical Development|Physical Maturation|Neuromuscular Maturation', 'Physical Health and Activity|Sensory Integration|Sensory Processing|Tactile Processing', 'Physical Health and Activity|Sensory Integration|Sensory Processing|Vestibular Processing', 'Physical Health and Activity|Sensory Integration|Sensory Processing|Proprioceptive Processing', 'Physical Health and Activity|Sensory Integration|Sensory-Motor Integration|Motor Response Planning', 'Physical Health and Activity|Sensory Integration|Sensory-Motor Integration|Sensory Feedback Integration', 'Physical Health and Activity|Sensory Integration|Body Awareness|Spatial Awareness', 'Physical Health and Activity|Sensory Integration|Body Awareness|Body Schema', 'Attention and Perception|Attention|Sustained Attention|Vigilance', 'Attention and Perception|Attention|Sustained Attention|Task Persistence', 'Attention and Perception|Attention|Selective Attention|Distractor Resistance', 'Attention and Perception|Attention|Selective Attention|Attentional Shifting', 'Attention and Perception|Attention|Divided Attention|Dual-Task Performance', 'Attention and Perception|Attention|Divided Attention|Resource Allocation', 'Attention and Perception|Sensory Processing|Visual Processing|Form Perception', 'Attention and Perception|Sensory Processing|Visual Processing|Motion Perception', 'Attention and Perception|Sensory Processing|Visual Processing|Color Processing', 'Attention and Perception|Sensory Processing|Auditory Processing|Phonological Processing', 'Attention and Perception|Sensory Processing|Auditory Processing|Temporal Processing', 'Attention and Perception|Sensory Processing|Auditory Processing|Auditory Discrimination', 'Attention and Perception|Sensory Processing|Tactile Processing|Tactile Discrimination', 'Attention and Perception|Sensory Processing|Tactile Processing|Proprioception', 'Attention and Perception|Perceptual Organization|Pattern Recognition|Sequential Processing', 'Attention and Perception|Perceptual Organization|Pattern Recognition|Simultaneous Processing', 'Attention and Perception|Perceptual Organization|Spatial Processing|Spatial Orientation', 'Attention and Perception|Perceptual Organization|Spatial Processing|Mental Rotation', 'Attention and Perception|Perceptual Organization|Object Recognition|Feature Detection', 'Attention and Perception|Perceptual Organization|Object Recognition|Object Categorization', 'Adaptive Functioning and Life Skills|Daily Living Skills|Personal Care|Hygiene Management', 'Adaptive Functioning and Life Skills|Daily Living Skills|Personal Care|Dressing Skills', 'Adaptive Functioning and Life Skills|Daily Living Skills|Personal Care|Grooming', 'Adaptive Functioning and Life Skills|Daily Living Skills|Household Management|Cleaning and Organization', 'Adaptive Functioning and Life Skills|Daily Living Skills|Household Management|Food Management', 'Adaptive Functioning and Life Skills|Daily Living Skills|Household Management|Home Maintenance', 'Adaptive Functioning and Life Skills|Daily Living Skills|Health Management|Medication Management', 'Adaptive Functioning and Life Skills|Daily Living Skills|Health Management|Healthcare Navigation', 'Adaptive Functioning and Life Skills|Daily Living Skills|Health Management|Wellness Maintenance', 'Adaptive Functioning and Life Skills|Community Navigation|Transportation Use|Public Transit Navigation', 'Adaptive Functioning and Life Skills|Community Navigation|Transportation Use|Personal Transportation', 'Adaptive Functioning and Life Skills|Community Navigation|Community Resource Utilization|Service Location', 'Adaptive Functioning and Life Skills|Community Navigation|Community Resource Utilization|Resource Navigation', 'Adaptive Functioning and Life Skills|Financial Management|Money Handling|Currency Recognition', 'Adaptive Functioning and Life Skills|Financial Management|Money Handling|Transaction Management', 'Adaptive Functioning and Life Skills|Financial Management|Financial Planning|Budgeting Skills', 'Adaptive Functioning and Life Skills|Financial Management|Financial Planning|Financial Decision Making', 'Adaptive Functioning and Life Skills|Safety Awareness|Risk Recognition|Environmental Hazards', 'Adaptive Functioning and Life Skills|Safety Awareness|Risk Recognition|Social Safety', 'Adaptive Functioning and Life Skills|Safety Awareness|Emergency Response|Emergency Protocol', 'Adaptive Functioning and Life Skills|Safety Awareness|Emergency Response|First Aid Knowledge', 'Adaptive Functioning and Life Skills|Time Management|Schedule Management|Calendar Planning', 'Adaptive Functioning and Life Skills|Time Management|Schedule Management|Routine Maintenance', 'Adaptive Functioning and Life Skills|Time Management|Task Prioritization|Task Assessment', 'Adaptive Functioning and Life Skills|Time Management|Task Prioritization|Time Allocation', 'Adaptive Functioning and Life Skills|Problem-Solving Skills|Problem Identification|Situation Analysis', 'Adaptive Functioning and Life Skills|Problem-Solving Skills|Problem Identification|Impact Assessment', 'Adaptive Functioning and Life Skills|Problem-Solving Skills|Solution Generation|Alternative Thinking', 'Adaptive Functioning and Life Skills|Problem-Solving Skills|Solution Generation|Solution Evaluation', 'Adaptive Functioning and Life Skills|Problem-Solving Skills|Decision Implementation|Action Planning', 'Adaptive Functioning and Life Skills|Problem-Solving Skills|Decision Implementation|Outcome Monitoring', 'Motivation and Goal-Directed Behavior|Intrinsic Motivation|Interest-Based Motivation|Curiosity Drive', 'Motivation and Goal-Directed Behavior|Intrinsic Motivation|Interest-Based Motivation|Activity Enjoyment', 'Motivation and Goal-Directed Behavior|Intrinsic Motivation|Mastery Motivation|Skill Development Drive', 'Motivation and Goal-Directed Behavior|Intrinsic Motivation|Mastery Motivation|Challenge Seeking', 'Motivation and Goal-Directed Behavior|Intrinsic Motivation|Autonomy-Driven Motivation|Decision Independence', 'Motivation and Goal-Directed Behavior|Intrinsic Motivation|Autonomy-Driven Motivation|Self-Direction Initiative', 'Motivation and Goal-Directed Behavior|Extrinsic Motivation|Reward-Based Motivation|Material Reward Drive', 'Motivation and Goal-Directed Behavior|Extrinsic Motivation|Reward-Based Motivation|Achievement Recognition', 'Motivation and Goal-Directed Behavior|Extrinsic Motivation|Social Motivation|Peer Influence Response', 'Motivation and Goal-Directed Behavior|Extrinsic Motivation|Social Motivation|Authority Compliance', 'Motivation and Goal-Directed Behavior|Extrinsic Motivation|Consequence-Based Motivation|Avoidance Drive', 'Motivation and Goal-Directed Behavior|Extrinsic Motivation|Consequence-Based Motivation|Obligation Fulfillment', 'Motivation and Goal-Directed Behavior|Goal Setting and Planning|Goal Identification|Goal Clarity', 'Motivation and Goal-Directed Behavior|Goal Setting and Planning|Goal Identification|Goal Feasibility Assessment', 'Motivation and Goal-Directed Behavior|Goal Setting and Planning|Strategic Planning|Action Sequencing', 'Motivation and Goal-Directed Behavior|Goal Setting and Planning|Strategic Planning|Resource Planning', 'Motivation and Goal-Directed Behavior|Goal Setting and Planning|Goal Adjustment|Feedback Integration', 'Motivation and Goal-Directed Behavior|Goal Setting and Planning|Goal Adjustment|Flexibility in Planning', 'Motivation and Goal-Directed Behavior|Persistence and Effort|Task Persistence|Focus Maintenance', 'Motivation and Goal-Directed Behavior|Persistence and Effort|Task Persistence|Effort Regulation', 'Motivation and Goal-Directed Behavior|Persistence and Effort|Challenge Response|Obstacle Management', 'Motivation and Goal-Directed Behavior|Persistence and Effort|Challenge Response|Resilience', 'Motivation and Goal-Directed Behavior|Persistence and Effort|Delayed Gratification|Impulse Control', 'Motivation and Goal-Directed Behavior|Persistence and Effort|Delayed Gratification|Long-term Focus', 'Motivation and Goal-Directed Behavior|Reward Processing|Reward Recognition|Reward Value Assessment', 'Motivation and Goal-Directed Behavior|Reward Processing|Reward Recognition|Reward Type Discrimination', 'Motivation and Goal-Directed Behavior|Reward Processing|Reward Anticipation|Future Reward Prediction', 'Motivation and Goal-Directed Behavior|Reward Processing|Reward Anticipation|Reward Delay Processing', 'Motivation and Goal-Directed Behavior|Reward Processing|Reward Learning|Reward Pattern Recognition', 'Motivation and Goal-Directed Behavior|Reward Processing|Reward Learning|Behavioral Adaptation', 'Self-Concept and Identity|Personal Identity|Personal Values and Beliefs|Moral Values', 'Self-Concept and Identity|Personal Identity|Personal Values and Beliefs|Life Philosophy', 'Self-Concept and Identity|Personal Identity|Personal Values and Beliefs|Religious/Spiritual Beliefs', 'Self-Concept and Identity|Personal Identity|Personality Traits|Temperament', 'Self-Concept and Identity|Personal Identity|Personality Traits|Character Strengths', 'Self-Concept and Identity|Personal Identity|Personality Traits|Behavioral Tendencies', 'Self-Concept and Identity|Personal Identity|Personal Interests|Recreational Interests', 'Self-Concept and Identity|Personal Identity|Personal Interests|Academic/Intellectual Interests', 'Self-Concept and Identity|Personal Identity|Personal Interests|Creative Interests', 'Self-Concept and Identity|Self-Evaluation|Self-Esteem|Global Self-Worth', 'Self-Concept and Identity|Self-Evaluation|Self-Esteem|Domain-Specific Self-Esteem', 'Self-Concept and Identity|Self-Evaluation|Self-Esteem|Conditional Self-Acceptance', 'Self-Concept and Identity|Self-Evaluation|Self-Efficacy|Task-Specific Confidence', 'Self-Concept and Identity|Self-Evaluation|Self-Efficacy|General Competence Beliefs', 'Self-Concept and Identity|Self-Evaluation|Self-Efficacy|Response to Challenges', 'Self-Concept and Identity|Self-Evaluation|Self-Criticism|Internal Standards', 'Self-Concept and Identity|Self-Evaluation|Self-Criticism|Perfectionism', 'Self-Concept and Identity|Self-Evaluation|Self-Criticism|Self-Judgment', 'Self-Concept and Identity|Social Identity|Cultural Identity|Cultural Values Integration', 'Self-Concept and Identity|Social Identity|Cultural Identity|Cultural Practice Engagement', 'Self-Concept and Identity|Social Identity|Cultural Identity|Cultural Group Belonging', 'Self-Concept and Identity|Social Identity|Role Identity|Family Roles', 'Self-Concept and Identity|Social Identity|Role Identity|Professional/Academic Roles', 'Self-Concept and Identity|Social Identity|Role Identity|Community Roles', 'Self-Concept and Identity|Social Identity|Group Affiliation|Peer Group Identity', 'Self-Concept and Identity|Social Identity|Group Affiliation|Social Organization Membership', 'Self-Concept and Identity|Social Identity|Group Affiliation|Online Community Identity', 'Self-Concept and Identity|Temporal Self-Concept|Past Self-Recognition|Autobiographical Memory Integration', 'Self-Concept and Identity|Temporal Self-Concept|Past Self-Recognition|Personal Growth Recognition', 'Self-Concept and Identity|Temporal Self-Concept|Past Self-Recognition|Life Story Coherence', 'Self-Concept and Identity|Temporal Self-Concept|Present Self-Understanding|Current State Awareness', 'Self-Concept and Identity|Temporal Self-Concept|Present Self-Understanding|Situational Self-Knowledge', 'Self-Concept and Identity|Temporal Self-Concept|Present Self-Understanding|Present Capabilities Assessment', 'Self-Concept and Identity|Temporal Self-Concept|Future Self-Projection|Goal Setting', 'Self-Concept and Identity|Temporal Self-Concept|Future Self-Projection|Future Self-Image', 'Self-Concept and Identity|Temporal Self-Concept|Future Self-Projection|Life Planning', 'Self-Concept and Identity|Self-Awareness|Emotional Self-Awareness|Emotion Recognition', 'Self-Concept and Identity|Self-Awareness|Emotional Self-Awareness|Emotion Understanding', 'Self-Concept and Identity|Self-Awareness|Emotional Self-Awareness|Emotional Patterns', 'Self-Concept and Identity|Self-Awareness|Behavioral Self-Awareness|Action Monitoring', 'Self-Concept and Identity|Self-Awareness|Behavioral Self-Awareness|Habit Recognition', 'Self-Concept and Identity|Self-Awareness|Behavioral Self-Awareness|Consequence Awareness', 'Self-Concept and Identity|Self-Awareness|Interpersonal Impact Awareness|Social Perception', 'Self-Concept and Identity|Self-Awareness|Interpersonal Impact Awareness|Relationship Impact', 'Self-Concept and Identity|Self-Awareness|Interpersonal Impact Awareness|Social Influence', 'Cognitive Function|Memory|Working Memory|Verbal Working Memory|Phonological Loop', 'Cognitive Function|Memory|Working Memory|Verbal Working Memory|Semantic Working Memory', 'Cognitive Function|Memory|Working Memory|Visual-Spatial Working Memory|Visual Pattern Memory', 'Cognitive Function|Memory|Working Memory|Visual-Spatial Working Memory|Spatial Location Memory', 'Cognitive Function|Memory|Long-term Memory|Episodic Memory|Autobiographical Memory', 'Cognitive Function|Memory|Long-term Memory|Episodic Memory|Source Memory', 'Cognitive Function|Memory|Long-term Memory|Semantic Memory|Categorical Knowledge', 'Cognitive Function|Memory|Long-term Memory|Semantic Memory|Factual Knowledge', 'Cognitive Function|Memory|Long-term Memory|Procedural Memory|Motor Skill Memory', 'Cognitive Function|Memory|Long-term Memory|Procedural Memory|Cognitive Skill Memory', 'Cognitive Function|Memory|Short-term Memory|Auditory Short-term Memory|Verbal Sequence Memory', 'Cognitive Function|Memory|Short-term Memory|Auditory Short-term Memory|Tonal Memory', 'Cognitive Function|Memory|Short-term Memory|Visual Short-term Memory|Visual Detail Memory', 'Cognitive Function|Memory|Short-term Memory|Visual Short-term Memory|Visual Pattern Memory', 'Cognitive Function|Executive Function|Cognitive Flexibility|Task Switching|Switch Cost Management', 'Cognitive Function|Executive Function|Cognitive Flexibility|Task Switching|Set Shifting', 'Cognitive Function|Executive Function|Cognitive Flexibility|Adaptive Problem Solving|Strategy Adjustment', 'Cognitive Function|Executive Function|Cognitive Flexibility|Adaptive Problem Solving|Error Recognition', 'Cognitive Function|Executive Function|Inhibitory Control|Response Inhibition|Motor Inhibition', 'Cognitive Function|Executive Function|Inhibitory Control|Response Inhibition|Cognitive Inhibition', 'Cognitive Function|Executive Function|Inhibitory Control|Interference Control|Distractor Resistance', 'Cognitive Function|Executive Function|Inhibitory Control|Interference Control|Proactive Interference Control', 'Cognitive Function|Executive Function|Planning and Organization|Strategic Planning|Goal Setting', 'Cognitive Function|Executive Function|Planning and Organization|Strategic Planning|Action Sequencing', 'Cognitive Function|Executive Function|Planning and Organization|Time Management|Task Prioritization', 'Cognitive Function|Executive Function|Planning and Organization|Time Management|Time Estimation', 'Cognitive Function|Processing Speed|Mental Processing Speed|Decision Speed|Simple Decision Speed', 'Cognitive Function|Processing Speed|Mental Processing Speed|Decision Speed|Choice Decision Speed', 'Cognitive Function|Processing Speed|Mental Processing Speed|Perceptual Speed|Visual Processing Speed', 'Cognitive Function|Processing Speed|Mental Processing Speed|Perceptual Speed|Auditory Processing Speed', 'Emotion Regulation|Emotional Awareness|Self-Emotional Awareness|Emotional Identification|Primary Emotion Recognition', 'Emotion Regulation|Emotional Awareness|Self-Emotional Awareness|Emotional Identification|Complex Emotion Recognition', 'Emotion Regulation|Emotional Awareness|Self-Emotional Awareness|Emotional Understanding|Trigger Identification', 'Emotion Regulation|Emotional Awareness|Self-Emotional Awareness|Emotional Understanding|Consequence Awareness', 'Emotion Regulation|Emotional Awareness|Social-Emotional Awareness|Emotional Cue Recognition|Facial Expression Recognition', 'Emotion Regulation|Emotional Awareness|Social-Emotional Awareness|Emotional Cue Recognition|Vocal Tone Interpretation', 'Emotion Regulation|Emotional Awareness|Social-Emotional Awareness|Contextual Understanding|Social Norm Recognition', 'Emotion Regulation|Emotional Awareness|Social-Emotional Awareness|Contextual Understanding|Situational Analysis', 'Emotion Regulation|Emotional Recovery|Self-Soothing|Relaxation Techniques|Physical Relaxation', 'Emotion Regulation|Emotional Recovery|Self-Soothing|Relaxation Techniques|Mental Relaxation', 'Emotion Regulation|Emotional Recovery|Self-Soothing|Emotional Processing|Emotional Reflection', 'Emotion Regulation|Emotional Recovery|Self-Soothing|Emotional Processing|Emotional Integration', 'Social Interaction|Social Awareness|Emotion Recognition|Facial Expression Recognition|Basic Emotion Recognition', 'Social Interaction|Social Awareness|Emotion Recognition|Facial Expression Recognition|Complex Emotion Recognition', 'Social Interaction|Social Awareness|Emotion Recognition|Facial Expression Recognition|Micro-Expression Detection', 'Social Interaction|Social Awareness|Emotion Recognition|Vocal Affect Recognition|Prosodic Recognition', 'Social Interaction|Social Awareness|Emotion Recognition|Vocal Affect Recognition|Vocal Intensity Recognition', 'Social Interaction|Social Awareness|Emotion Recognition|Vocal Affect Recognition|Speech Rate Recognition', 'Social Interaction|Social Awareness|Emotion Recognition|Body Language Recognition|Postural Recognition', 'Social Interaction|Social Awareness|Emotion Recognition|Body Language Recognition|Gestural Recognition', 'Social Interaction|Social Awareness|Emotion Recognition|Body Language Recognition|Movement Pattern Recognition', 'Social Interaction|Social Awareness|Social Context Understanding|Social Rules Recognition|Explicit Rule Recognition', 'Social Interaction|Social Awareness|Social Context Understanding|Social Rules Recognition|Implicit Rule Recognition', 'Social Interaction|Social Awareness|Social Context Understanding|Social Rules Recognition|Context-Specific Rule Recognition', 'Social Interaction|Social Awareness|Social Context Understanding|Situational Appropriateness|Environmental Adaptation', 'Social Interaction|Social Awareness|Social Context Understanding|Situational Appropriateness|Role Adaptation', 'Social Interaction|Social Awareness|Social Context Understanding|Situational Appropriateness|Occasion Adaptation', 'Social Interaction|Social Awareness|Social Context Understanding|Cultural Understanding|Cultural Norm Recognition', 'Social Interaction|Social Awareness|Social Context Understanding|Cultural Understanding|Cultural Sensitivity', 'Social Interaction|Social Awareness|Social Context Understanding|Cultural Understanding|Cross-Cultural Adaptation', 'Social Interaction|Social Awareness|Perspective Taking|Cognitive Empathy|Emotional State Attribution', 'Social Interaction|Social Awareness|Perspective Taking|Cognitive Empathy|Emotional Impact Understanding', 'Social Interaction|Social Awareness|Perspective Taking|Cognitive Empathy|Emotional Response Prediction', 'Social Interaction|Social Awareness|Perspective Taking|Theory of Mind|False Belief Understanding', 'Social Interaction|Social Awareness|Perspective Taking|Theory of Mind|Intention Attribution', 'Social Interaction|Social Awareness|Perspective Taking|Theory of Mind|Mental State Attribution', 'Social Interaction|Social Awareness|Perspective Taking|Social Inference|Behavioral Inference', 'Social Interaction|Social Awareness|Perspective Taking|Social Inference|Motivational Inference', 'Social Interaction|Social Awareness|Perspective Taking|Social Inference|Social Prediction', 'Social Interaction|Social Communication|Verbal Social Communication|Conversation Skills|Topic Management', 'Social Interaction|Social Communication|Verbal Social Communication|Conversation Skills|Turn-Taking Coordination', 'Social Interaction|Social Communication|Verbal Social Communication|Conversation Skills|Conversation Repair', 'Social Interaction|Social Communication|Verbal Social Communication|Social Language Use|Register Adjustment', 'Social Interaction|Social Communication|Verbal Social Communication|Social Language Use|Idiomatic Language Use', 'Social Interaction|Social Communication|Verbal Social Communication|Social Language Use|Social Commentary', 'Social Interaction|Social Communication|Verbal Social Communication|Verbal Expression|Emotional Expression', 'Social Interaction|Social Communication|Verbal Social Communication|Verbal Expression|Thought Articulation', 'Social Interaction|Social Communication|Verbal Social Communication|Verbal Expression|Narrative Skills', 'Social Interaction|Social Communication|Non-verbal Social Communication|Gesture Use|Conventional Gesture Use', 'Social Interaction|Social Communication|Non-verbal Social Communication|Gesture Use|Descriptive Gesture Use', 'Social Interaction|Social Communication|Non-verbal Social Communication|Gesture Use|Interactive Gesture Use', 'Social Interaction|Social Communication|Non-verbal Social Communication|Facial Expression Use|Emotional Display', 'Social Interaction|Social Communication|Non-verbal Social Communication|Facial Expression Use|Response Modulation', 'Social Interaction|Social Communication|Non-verbal Social Communication|Facial Expression Use|Expression Timing', 'Social Interaction|Social Communication|Non-verbal Social Communication|Body Language Use|Proxemics Management', 'Social Interaction|Social Communication|Non-verbal Social Communication|Body Language Use|Postural Communication', 'Social Interaction|Social Communication|Non-verbal Social Communication|Body Language Use|Movement Coordination', 'Communication and Language|Receptive Language|Auditory Comprehension|Phonological Processing|Phonemic Awareness', 'Communication and Language|Receptive Language|Auditory Comprehension|Phonological Processing|Syllable Processing', 'Communication and Language|Receptive Language|Auditory Comprehension|Phonological Processing|Prosodic Processing', 'Communication and Language|Receptive Language|Auditory Comprehension|Semantic Understanding|Vocabulary Comprehension', 'Communication and Language|Receptive Language|Auditory Comprehension|Semantic Understanding|Semantic Relationships', 'Communication and Language|Receptive Language|Auditory Comprehension|Semantic Understanding|Figurative Language', 'Communication and Language|Receptive Language|Auditory Comprehension|Syntactic Understanding|Grammatical Comprehension', 'Communication and Language|Receptive Language|Auditory Comprehension|Syntactic Understanding|Sentence Complexity Processing', 'Communication and Language|Receptive Language|Auditory Comprehension|Syntactic Understanding|Temporal Sequencing', 'Communication and Language|Receptive Language|Reading Comprehension|Word Recognition|Visual Word Form Recognition', 'Communication and Language|Receptive Language|Reading Comprehension|Word Recognition|Phonetic Decoding', 'Communication and Language|Receptive Language|Reading Comprehension|Word Recognition|Orthographic Processing', 'Communication and Language|Receptive Language|Reading Comprehension|Text Analysis|Main Idea Extraction', 'Communication and Language|Receptive Language|Reading Comprehension|Text Analysis|Inferential Comprehension', 'Communication and Language|Receptive Language|Reading Comprehension|Text Analysis|Text Structure Analysis', 'Communication and Language|Expressive Language|Verbal Expression|Speech Production|Articulation', 'Communication and Language|Expressive Language|Verbal Expression|Speech Production|Voice Control', 'Communication and Language|Expressive Language|Verbal Expression|Speech Production|Fluency', 'Behavioral Control|Impulse Control|Delay of Gratification|Reward-Based Decision Making|Value Assessment', 'Behavioral Control|Impulse Control|Delay of Gratification|Reward-Based Decision Making|Temporal Discounting Control', 'Behavioral Control|Impulse Control|Action Restraint|Impulse Recognition|Impulse Awareness', 'Behavioral Control|Impulse Control|Action Restraint|Impulse Recognition|Impulse Classification', 'Behavioral Control|Self-Regulation|Goal-Directed Regulation|Progress Monitoring|Goal Progress Assessment', 'Behavioral Control|Self-Regulation|Goal-Directed Regulation|Progress Monitoring|Strategy Effectiveness Evaluation', 'Behavioral Control|Self-Regulation|Situational Adaptation|Behavioral Adjustment|Response Adaptation Speed', 'Behavioral Control|Self-Regulation|Situational Adaptation|Behavioral Adjustment|Response Appropriateness', 'Behavioral Control|Response Inhibition|Motor Inhibition|Movement Control|Fine Motor Control', 'Behavioral Control|Response Inhibition|Motor Inhibition|Movement Control|Gross Motor Control', 'Behavioral Control|Response Inhibition|Cognitive Inhibition|Attention Control|Distractor Resistance', 'Behavioral Control|Response Inhibition|Cognitive Inhibition|Attention Control|Attention Sustaining', 'Behavioral Control|Response Inhibition|Cognitive Inhibition|Thought Suppression|Thought Monitoring', 'Behavioral Control|Response Inhibition|Cognitive Inhibition|Thought Suppression|Active Thought Redirection', 'Physical Health and Activity|Motor Function|Gross Motor Skills|Balance and Stability|Static Balance', 'Physical Health and Activity|Motor Function|Gross Motor Skills|Balance and Stability|Dynamic Balance', 'Physical Health and Activity|Motor Function|Gross Motor Skills|Locomotion|Gait Pattern', 'Physical Health and Activity|Motor Function|Gross Motor Skills|Locomotion|Speed Control', 'Physical Health and Activity|Motor Function|Gross Motor Skills|Locomotion|Movement Transitions', 'Physical Health and Activity|Motor Function|Gross Motor Skills|Object Control|Force Regulation', 'Physical Health and Activity|Motor Function|Gross Motor Skills|Object Control|Directional Control', 'Physical Health and Activity|Motor Function|Fine Motor Skills|Manual Dexterity|Finger Manipulation', 'Physical Health and Activity|Motor Function|Fine Motor Skills|Manual Dexterity|Tool Use', 'Physical Health and Activity|Motor Function|Fine Motor Skills|Hand-Eye Coordination|Visual Tracking', 'Physical Health and Activity|Motor Function|Fine Motor Skills|Hand-Eye Coordination|Spatial Accuracy', 'Physical Health and Activity|Physical Fitness|Cardiovascular Function|Aerobic Capacity|Endurance Level', 'Physical Health and Activity|Physical Fitness|Cardiovascular Function|Aerobic Capacity|Exercise Intensity Tolerance', 'Physical Health and Activity|Physical Fitness|Cardiovascular Function|Recovery Rate|Heart Rate Recovery', 'Physical Health and Activity|Physical Fitness|Cardiovascular Function|Recovery Rate|Breathing Rate Recovery', 'Physical Health and Activity|Physical Fitness|Physical Flexibility|Joint Range of Motion|Active Range of Motion', 'Physical Health and Activity|Physical Fitness|Physical Flexibility|Joint Range of Motion|Passive Range of Motion', 'Physical Health and Activity|Physical Fitness|Physical Flexibility|Muscle Flexibility|Static Flexibility', 'Physical Health and Activity|Physical Fitness|Physical Flexibility|Muscle Flexibility|Dynamic Flexibility', 'Physical Health and Activity|Sleep and Rest|Sleep Quality|Sleep Continuity|Sleep Maintenance', 'Physical Health and Activity|Sleep and Rest|Sleep Quality|Sleep Continuity|Arousal Frequency', 'Physical Health and Activity|Physical Development|Growth Progress|Body Composition|Body Fat Distribution', 'Physical Health and Activity|Physical Development|Growth Progress|Body Composition|Lean Mass Development', 'Physical Health and Activity|Sensory Integration|Sensory Processing|Tactile Processing|Light Touch Discrimination', 'Physical Health and Activity|Sensory Integration|Sensory Processing|Tactile Processing|Pressure Sensitivity', 'Attention and Perception|Attention|Sustained Attention|Vigilance|Signal Detection', 'Attention and Perception|Attention|Sustained Attention|Vigilance|Alertness Maintenance', 'Attention and Perception|Attention|Sustained Attention|Task Persistence|Performance Stability', 'Attention and Perception|Attention|Sustained Attention|Task Persistence|Fatigue Resistance', 'Attention and Perception|Attention|Selective Attention|Distractor Resistance|Environmental Distractor Processing', 'Attention and Perception|Attention|Selective Attention|Distractor Resistance|Internal Distractor Processing', 'Attention and Perception|Attention|Selective Attention|Attentional Shifting|Task Switching Speed', 'Attention and Perception|Attention|Selective Attention|Attentional Shifting|Switch Cost Management', 'Attention and Perception|Attention|Divided Attention|Dual-Task Performance|Task Integration', 'Attention and Perception|Attention|Divided Attention|Dual-Task Performance|Performance Maintenance', 'Attention and Perception|Attention|Divided Attention|Resource Allocation|Priority Management', 'Attention and Perception|Attention|Divided Attention|Resource Allocation|Processing Efficiency', 'Attention and Perception|Sensory Processing|Visual Processing|Form Perception|Shape Recognition', 'Attention and Perception|Sensory Processing|Visual Processing|Form Perception|Size Estimation', 'Attention and Perception|Sensory Processing|Visual Processing|Motion Perception|Velocity Detection', 'Attention and Perception|Sensory Processing|Visual Processing|Motion Perception|Direction Discrimination', 'Attention and Perception|Sensory Processing|Visual Processing|Color Processing|Color Discrimination', 'Attention and Perception|Sensory Processing|Visual Processing|Color Processing|Color Memory', 'Attention and Perception|Sensory Processing|Auditory Processing|Phonological Processing|Phoneme Discrimination', 'Attention and Perception|Sensory Processing|Auditory Processing|Phonological Processing|Phonological Memory', 'Attention and Perception|Sensory Processing|Auditory Processing|Temporal Processing|Duration Discrimination', 'Attention and Perception|Sensory Processing|Auditory Processing|Temporal Processing|Rhythm Processing', 'Attention and Perception|Sensory Processing|Auditory Processing|Auditory Discrimination|Pitch Discrimination', 'Attention and Perception|Sensory Processing|Auditory Processing|Auditory Discrimination|Intensity Discrimination', 'Attention and Perception|Sensory Processing|Tactile Processing|Tactile Discrimination|Texture Recognition', 'Attention and Perception|Sensory Processing|Tactile Processing|Tactile Discrimination|Pressure Sensitivity', 'Attention and Perception|Sensory Processing|Tactile Processing|Proprioception|Position Sense', 'Attention and Perception|Sensory Processing|Tactile Processing|Proprioception|Movement Sense', 'Attention and Perception|Perceptual Organization|Pattern Recognition|Sequential Processing|Temporal Pattern Recognition', 'Attention and Perception|Perceptual Organization|Pattern Recognition|Sequential Processing|Sequential Memory', 'Attention and Perception|Perceptual Organization|Pattern Recognition|Simultaneous Processing|Global Pattern Recognition', 'Attention and Perception|Perceptual Organization|Pattern Recognition|Simultaneous Processing|Pattern Integration', 'Attention and Perception|Perceptual Organization|Spatial Processing|Spatial Orientation|Egocentric Orientation', 'Attention and Perception|Perceptual Organization|Spatial Processing|Spatial Orientation|Allocentric Orientation', 'Attention and Perception|Perceptual Organization|Spatial Processing|Mental Rotation|2D Rotation', 'Attention and Perception|Perceptual Organization|Spatial Processing|Mental Rotation|3D Rotation', 'Attention and Perception|Perceptual Organization|Object Recognition|Feature Detection|Detail Processing', 'Attention and Perception|Perceptual Organization|Object Recognition|Feature Detection|Feature Integration', 'Attention and Perception|Perceptual Organization|Object Recognition|Object Categorization|Perceptual Categorization', 'Attention and Perception|Perceptual Organization|Object Recognition|Object Categorization|Semantic Categorization', 'Adaptive Functioning and Life Skills|Daily Living Skills|Personal Care|Hygiene Management|Dental Hygiene', 'Adaptive Functioning and Life Skills|Daily Living Skills|Personal Care|Hygiene Management|Body Hygiene', 'Adaptive Functioning and Life Skills|Daily Living Skills|Personal Care|Dressing Skills|Clothing Selection', 'Adaptive Functioning and Life Skills|Daily Living Skills|Personal Care|Dressing Skills|Dressing Execution', 'Adaptive Functioning and Life Skills|Daily Living Skills|Personal Care|Grooming|Hair Care', 'Adaptive Functioning and Life Skills|Daily Living Skills|Personal Care|Grooming|Nail Care', 'Adaptive Functioning and Life Skills|Daily Living Skills|Household Management|Cleaning and Organization|Surface Cleaning', 'Adaptive Functioning and Life Skills|Daily Living Skills|Household Management|Cleaning and Organization|Organization Systems', 'Adaptive Functioning and Life Skills|Daily Living Skills|Household Management|Food Management|Meal Planning', 'Adaptive Functioning and Life Skills|Daily Living Skills|Household Management|Food Management|Food Preparation', 'Adaptive Functioning and Life Skills|Daily Living Skills|Household Management|Home Maintenance|Basic Repairs', 'Adaptive Functioning and Life Skills|Daily Living Skills|Household Management|Home Maintenance|Maintenance Scheduling', 'Adaptive Functioning and Life Skills|Daily Living Skills|Health Management|Medication Management|Medication Adherence', 'Adaptive Functioning and Life Skills|Daily Living Skills|Health Management|Medication Management|Medication Organization', 'Adaptive Functioning and Life Skills|Daily Living Skills|Health Management|Healthcare Navigation|Appointment Management', 'Adaptive Functioning and Life Skills|Daily Living Skills|Health Management|Healthcare Navigation|Treatment Adherence', 'Adaptive Functioning and Life Skills|Daily Living Skills|Health Management|Wellness Maintenance|Preventive Care', 'Adaptive Functioning and Life Skills|Daily Living Skills|Health Management|Wellness Maintenance|Lifestyle Management', 'Motivation and Goal-Directed Behavior|Intrinsic Motivation|Interest-Based Motivation|Curiosity Drive|Exploratory Behavior', 'Motivation and Goal-Directed Behavior|Intrinsic Motivation|Interest-Based Motivation|Curiosity Drive|Knowledge Seeking', 'Motivation and Goal-Directed Behavior|Intrinsic Motivation|Interest-Based Motivation|Activity Enjoyment|Engagement Level', 'Motivation and Goal-Directed Behavior|Intrinsic Motivation|Interest-Based Motivation|Activity Enjoyment|Positive Experience Association', 'Motivation and Goal-Directed Behavior|Intrinsic Motivation|Mastery Motivation|Skill Development Drive|Learning Initiative', 'Motivation and Goal-Directed Behavior|Intrinsic Motivation|Mastery Motivation|Skill Development Drive|Progress Monitoring', 'Motivation and Goal-Directed Behavior|Intrinsic Motivation|Mastery Motivation|Challenge Seeking|Difficulty Selection', 'Motivation and Goal-Directed Behavior|Intrinsic Motivation|Mastery Motivation|Challenge Seeking|Growth Orientation', 'Motivation and Goal-Directed Behavior|Intrinsic Motivation|Autonomy-Driven Motivation|Decision Independence|Choice Confidence', 'Motivation and Goal-Directed Behavior|Intrinsic Motivation|Autonomy-Driven Motivation|Decision Independence|Decision Ownership', 'Motivation and Goal-Directed Behavior|Intrinsic Motivation|Autonomy-Driven Motivation|Self-Direction Initiative|Activity Initiation', 'Motivation and Goal-Directed Behavior|Intrinsic Motivation|Autonomy-Driven Motivation|Self-Direction Initiative|Direction Maintenance', 'Motivation and Goal-Directed Behavior|Extrinsic Motivation|Reward-Based Motivation|Material Reward Drive|Reward Magnitude Sensitivity', 'Motivation and Goal-Directed Behavior|Extrinsic Motivation|Reward-Based Motivation|Material Reward Drive|Effort-Reward Evaluation', 'Motivation and Goal-Directed Behavior|Extrinsic Motivation|Reward-Based Motivation|Achievement Recognition|Social Validation Seeking', 'Motivation and Goal-Directed Behavior|Extrinsic Motivation|Reward-Based Motivation|Achievement Recognition|Achievement Display', 'Motivation and Goal-Directed Behavior|Extrinsic Motivation|Social Motivation|Peer Influence Response|Social Conformity', 'Motivation and Goal-Directed Behavior|Extrinsic Motivation|Social Motivation|Peer Influence Response|Peer Approval Seeking', 'Motivation and Goal-Directed Behavior|Extrinsic Motivation|Social Motivation|Authority Compliance|Rule Adherence', 'Motivation and Goal-Directed Behavior|Extrinsic Motivation|Social Motivation|Authority Compliance|Authority Recognition', 'Motivation and Goal-Directed Behavior|Extrinsic Motivation|Consequence-Based Motivation|Avoidance Drive|Negative Outcome Anticipation', 'Motivation and Goal-Directed Behavior|Extrinsic Motivation|Consequence-Based Motivation|Avoidance Drive|Preventive Action', 'Motivation and Goal-Directed Behavior|Extrinsic Motivation|Consequence-Based Motivation|Obligation Fulfillment|Deadline Responsiveness', 'Motivation and Goal-Directed Behavior|Extrinsic Motivation|Consequence-Based Motivation|Obligation Fulfillment|Responsibility Management', 'Self-Concept and Identity|Personal Identity|Personal Values and Beliefs|Moral Values|Justice and Fairness', 'Self-Concept and Identity|Personal Identity|Personal Values and Beliefs|Moral Values|Care and Compassion', 'Self-Concept and Identity|Personal Identity|Personal Values and Beliefs|Moral Values|Personal Integrity', 'Self-Concept and Identity|Self-Evaluation|Self-Esteem|Global Self-Worth|Self-Acceptance', 'Self-Concept and Identity|Self-Evaluation|Self-Esteem|Global Self-Worth|Core Self-Value', 'Self-Concept and Identity|Self-Evaluation|Self-Esteem|Domain-Specific Self-Esteem|Academic Self-Esteem', 'Self-Concept and Identity|Self-Evaluation|Self-Esteem|Domain-Specific Self-Esteem|Social Self-Esteem', 'Self-Concept and Identity|Self-Evaluation|Self-Esteem|Domain-Specific Self-Esteem|Physical Self-Esteem', 'Self-Concept and Identity|Self-Evaluation|Self-Criticism|Internal Standards|Achievement Standards', 'Self-Concept and Identity|Self-Evaluation|Self-Criticism|Internal Standards|Behavioral Standards', 'Self-Concept and Identity|Self-Evaluation|Self-Criticism|Internal Standards|Comparative Standards', 'Self-Concept and Identity|Self-Evaluation|Self-Criticism|Perfectionism|Performance Demands', 'Self-Concept and Identity|Self-Evaluation|Self-Criticism|Perfectionism|Self-Presentation Standards', 'Self-Concept and Identity|Self-Evaluation|Self-Criticism|Perfectionism|Error Sensitivity', 'Self-Concept and Identity|Self-Evaluation|Self-Criticism|Self-Judgment|Harsh Self-Talk', 'Self-Concept and Identity|Self-Evaluation|Self-Criticism|Self-Judgment|Failure Attribution', 'Self-Concept and Identity|Self-Evaluation|Self-Criticism|Self-Judgment|Self-Punishment', 'Self-Concept and Identity|Self-Awareness|Emotional Self-Awareness|Emotion Recognition|Physical Sensation Awareness', 'Self-Concept and Identity|Self-Awareness|Emotional Self-Awareness|Emotion Recognition|Emotional Vocabulary', 'Self-Concept and Identity|Self-Awareness|Emotional Self-Awareness|Emotion Recognition|Emotion Intensity Discrimination', 'Self-Concept and Identity|Self-Awareness|Interpersonal Impact Awareness|Social Perception|Feedback Reception', 'Self-Concept and Identity|Self-Awareness|Interpersonal Impact Awareness|Social Perception|Social Cue Recognition', 'Self-Concept and Identity|Self-Awareness|Interpersonal Impact Awareness|Social Perception|Impression Management Awareness', 'Cognitive Function|Memory|Working Memory|Verbal Working Memory|Phonological Loop|Articulatory Rehearsal', 'Cognitive Function|Memory|Working Memory|Verbal Working Memory|Phonological Loop|Phonological Store', 'Cognitive Function|Memory|Working Memory|Verbal Working Memory|Semantic Working Memory|Conceptual Manipulation', 'Cognitive Function|Memory|Working Memory|Verbal Working Memory|Semantic Working Memory|Semantic Maintenance', 'Cognitive Function|Memory|Working Memory|Visual-Spatial Working Memory|Visual Pattern Memory|Object Feature Memory', 'Cognitive Function|Memory|Working Memory|Visual-Spatial Working Memory|Visual Pattern Memory|Pattern Integration', 'Cognitive Function|Memory|Working Memory|Visual-Spatial Working Memory|Spatial Location Memory|Spatial Coordinate Memory', 'Cognitive Function|Memory|Working Memory|Visual-Spatial Working Memory|Spatial Location Memory|Spatial Configuration Memory', 'Cognitive Function|Memory|Long-term Memory|Episodic Memory|Autobiographical Memory|Personal Event Memory', 'Cognitive Function|Memory|Long-term Memory|Episodic Memory|Autobiographical Memory|Life Period Memory', 'Cognitive Function|Memory|Long-term Memory|Episodic Memory|Source Memory|Temporal Source Memory', 'Cognitive Function|Memory|Long-term Memory|Episodic Memory|Source Memory|Contextual Source Memory', 'Emotion Regulation|Emotional Awareness|Self-Emotional Awareness|Emotional Identification|Primary Emotion Recognition|Basic Positive Emotion Recognition', 'Emotion Regulation|Emotional Awareness|Self-Emotional Awareness|Emotional Identification|Primary Emotion Recognition|Basic Negative Emotion Recognition', 'Emotion Regulation|Emotional Awareness|Self-Emotional Awareness|Emotional Identification|Complex Emotion Recognition|Blended Emotion Recognition', 'Emotion Regulation|Emotional Awareness|Self-Emotional Awareness|Emotional Identification|Complex Emotion Recognition|Secondary Emotion Recognition', 'Emotion Regulation|Emotional Awareness|Self-Emotional Awareness|Emotional Understanding|Trigger Identification|External Trigger Recognition', 'Emotion Regulation|Emotional Awareness|Self-Emotional Awareness|Emotional Understanding|Trigger Identification|Internal Trigger Recognition', 'Emotion Regulation|Emotional Awareness|Self-Emotional Awareness|Emotional Understanding|Consequence Awareness|Personal Impact Awareness', 'Emotion Regulation|Emotional Awareness|Self-Emotional Awareness|Emotional Understanding|Consequence Awareness|Social Impact Awareness', 'Emotion Regulation|Emotional Awareness|Social-Emotional Awareness|Emotional Cue Recognition|Facial Expression Recognition|Micro-Expression Detection', 'Emotion Regulation|Emotional Awareness|Social-Emotional Awareness|Emotional Cue Recognition|Facial Expression Recognition|Expression Pattern Analysis', 'Emotion Regulation|Emotional Awareness|Social-Emotional Awareness|Emotional Cue Recognition|Vocal Tone Interpretation|Prosodic Feature Recognition', 'Emotion Regulation|Emotional Awareness|Social-Emotional Awareness|Emotional Cue Recognition|Vocal Tone Interpretation|Vocal Quality Analysis', 'Communication and Language|Receptive Language|Auditory Comprehension|Phonological Processing|Phonemic Awareness|Phoneme Identification', 'Communication and Language|Receptive Language|Auditory Comprehension|Phonological Processing|Phonemic Awareness|Phoneme Manipulation', 'Communication and Language|Receptive Language|Auditory Comprehension|Phonological Processing|Phonemic Awareness|Phoneme Blending', 'Behavioral Control|Impulse Control|Delay of Gratification|Reward-Based Decision Making|Value Assessment|Reward Magnitude Processing', 'Behavioral Control|Impulse Control|Delay of Gratification|Reward-Based Decision Making|Value Assessment|Reward Quality Evaluation', 'Behavioral Control|Impulse Control|Delay of Gratification|Reward-Based Decision Making|Temporal Discounting Control|Delay Duration Processing', 'Behavioral Control|Impulse Control|Delay of Gratification|Reward-Based Decision Making|Temporal Discounting Control|Future Reward Valuation', 'Behavioral Control|Response Inhibition|Motor Inhibition|Movement Control|Fine Motor Control|Manual Dexterity', 'Behavioral Control|Response Inhibition|Motor Inhibition|Movement Control|Fine Motor Control|Hand-Eye Coordination', 'Behavioral Control|Response Inhibition|Motor Inhibition|Movement Control|Gross Motor Control|Postural Control', 'Behavioral Control|Response Inhibition|Motor Inhibition|Movement Control|Gross Motor Control|Movement Coordination', 'Adaptive Functioning and Life Skills|Daily Living Skills|Household Management|Food Management|Food Preparation|Kitchen Safety', 'Adaptive Functioning and Life Skills|Daily Living Skills|Household Management|Food Management|Food Preparation|Cooking Skills', 'Motivation and Goal-Directed Behavior|Intrinsic Motivation|Interest-Based Motivation|Curiosity Drive|Exploratory Behavior|Novel Stimuli Response', 'Motivation and Goal-Directed Behavior|Intrinsic Motivation|Interest-Based Motivation|Curiosity Drive|Exploratory Behavior|Information Gathering', 'Motivation and Goal-Directed Behavior|Intrinsic Motivation|Interest-Based Motivation|Curiosity Drive|Knowledge Seeking|Question Formation', 'Motivation and Goal-Directed Behavior|Intrinsic Motivation|Interest-Based Motivation|Curiosity Drive|Knowledge Seeking|Learning Strategy Use'])"
      ]
     },
     "execution_count": 62,
     "metadata": {},
     "output_type": "execute_result"
    }
   ],
   "source": [
    "# Visualize some keys:\n",
    "\n",
    "e1.keys()"
   ]
  },
  {
   "cell_type": "code",
   "execution_count": 61,
   "id": "b06fc3b7-da30-4b9c-838a-2baa878fe9f0",
   "metadata": {
    "scrolled": true
   },
   "outputs": [
    {
     "name": "stdout",
     "output_type": "stream",
     "text": [
      "Cognitive Function\n"
     ]
    },
    {
     "data": {
      "text/html": [
       "<div>\n",
       "<style scoped>\n",
       "    .dataframe tbody tr th:only-of-type {\n",
       "        vertical-align: middle;\n",
       "    }\n",
       "\n",
       "    .dataframe tbody tr th {\n",
       "        vertical-align: top;\n",
       "    }\n",
       "\n",
       "    .dataframe thead th {\n",
       "        text-align: right;\n",
       "    }\n",
       "</style>\n",
       "<table border=\"1\" class=\"dataframe\">\n",
       "  <thead>\n",
       "    <tr style=\"text-align: right;\">\n",
       "      <th></th>\n",
       "      <th>0</th>\n",
       "      <th>1</th>\n",
       "    </tr>\n",
       "  </thead>\n",
       "  <tbody>\n",
       "    <tr>\n",
       "      <th>10</th>\n",
       "      <td>Cognitive Function|Memory</td>\n",
       "      <td>0.809959</td>\n",
       "    </tr>\n",
       "    <tr>\n",
       "      <th>0</th>\n",
       "      <td>Cognitive Function</td>\n",
       "      <td>0.733615</td>\n",
       "    </tr>\n",
       "    <tr>\n",
       "      <th>36</th>\n",
       "      <td>Attention and Perception|Sensory Processing</td>\n",
       "      <td>0.698068</td>\n",
       "    </tr>\n",
       "    <tr>\n",
       "      <th>53</th>\n",
       "      <td>Cognitive Function|Memory|Working Memory</td>\n",
       "      <td>0.691716</td>\n",
       "    </tr>\n",
       "    <tr>\n",
       "      <th>4</th>\n",
       "      <td>Behavioral Control</td>\n",
       "      <td>0.678440</td>\n",
       "    </tr>\n",
       "  </tbody>\n",
       "</table>\n",
       "</div>"
      ],
      "text/plain": [
       "                                              0         1\n",
       "10                    Cognitive Function|Memory  0.809959\n",
       "0                            Cognitive Function  0.733615\n",
       "36  Attention and Perception|Sensory Processing  0.698068\n",
       "53     Cognitive Function|Memory|Working Memory  0.691716\n",
       "4                            Behavioral Control  0.678440"
      ]
     },
     "execution_count": 61,
     "metadata": {},
     "output_type": "execute_result"
    }
   ],
   "source": [
    "\n",
    "\n",
    "# Compare two sets:\n",
    "\n",
    "ValueCompare='Cognitive Function'\n",
    "v1=e1[ValueCompare]\n",
    "local_scores=list()\n",
    "\n",
    "for k,v in e2.items():\n",
    "    cos_scores=util.cos_sim(v1, v)[0][0]\n",
    "    top_results=torch.topk(cos_scores, k=1)\n",
    "    top=top_results[0].tolist()\n",
    "    local_scores.append((k,top))\n",
    "\n",
    "print(ValueCompare)\n",
    "#print(local_scores)\n",
    "df=pd.DataFrame(local_scores)\n",
    "df.sort_values(by=1, ascending=False).head()"
   ]
  },
  {
   "cell_type": "code",
   "execution_count": 60,
   "id": "93d5e70a-5432-4007-b4d9-c581f895cab6",
   "metadata": {
    "scrolled": true
   },
   "outputs": [
    {
     "name": "stdout",
     "output_type": "stream",
     "text": [
      "Communication and Language\n"
     ]
    },
    {
     "data": {
      "text/html": [
       "<div>\n",
       "<style scoped>\n",
       "    .dataframe tbody tr th:only-of-type {\n",
       "        vertical-align: middle;\n",
       "    }\n",
       "\n",
       "    .dataframe tbody tr th {\n",
       "        vertical-align: top;\n",
       "    }\n",
       "\n",
       "    .dataframe thead th {\n",
       "        text-align: right;\n",
       "    }\n",
       "</style>\n",
       "<table border=\"1\" class=\"dataframe\">\n",
       "  <thead>\n",
       "    <tr style=\"text-align: right;\">\n",
       "      <th></th>\n",
       "      <th>0</th>\n",
       "      <th>1</th>\n",
       "    </tr>\n",
       "  </thead>\n",
       "  <tbody>\n",
       "    <tr>\n",
       "      <th>90</th>\n",
       "      <td>Communication and Language|Receptive Language|...</td>\n",
       "      <td>0.854902</td>\n",
       "    </tr>\n",
       "    <tr>\n",
       "      <th>23</th>\n",
       "      <td>Communication and Language|Receptive Language</td>\n",
       "      <td>0.851444</td>\n",
       "    </tr>\n",
       "    <tr>\n",
       "      <th>3</th>\n",
       "      <td>Communication and Language</td>\n",
       "      <td>0.833586</td>\n",
       "    </tr>\n",
       "    <tr>\n",
       "      <th>267</th>\n",
       "      <td>Communication and Language|Receptive Language|...</td>\n",
       "      <td>0.828037</td>\n",
       "    </tr>\n",
       "    <tr>\n",
       "      <th>24</th>\n",
       "      <td>Communication and Language|Expressive Language</td>\n",
       "      <td>0.816236</td>\n",
       "    </tr>\n",
       "  </tbody>\n",
       "</table>\n",
       "</div>"
      ],
      "text/plain": [
       "                                                     0         1\n",
       "90   Communication and Language|Receptive Language|...  0.854902\n",
       "23       Communication and Language|Receptive Language  0.851444\n",
       "3                           Communication and Language  0.833586\n",
       "267  Communication and Language|Receptive Language|...  0.828037\n",
       "24      Communication and Language|Expressive Language  0.816236"
      ]
     },
     "execution_count": 60,
     "metadata": {},
     "output_type": "execute_result"
    }
   ],
   "source": [
    "# Compare two sets:\n",
    "\n",
    "ValueCompare='Communication and Language'\n",
    "v1=e1[ValueCompare]\n",
    "local_scores=list()\n",
    "\n",
    "for k,v in e2.items():\n",
    "    cos_scores=util.cos_sim(v1, v)[0][0]\n",
    "    top_results=torch.topk(cos_scores, k=1)\n",
    "    top=top_results[0].tolist()\n",
    "    local_scores.append((k,top))\n",
    "\n",
    "print(ValueCompare)\n",
    "#print(local_scores)\n",
    "df=pd.DataFrame(local_scores)\n",
    "df.sort_values(by=1, ascending=False).head()"
   ]
  },
  {
   "cell_type": "code",
   "execution_count": 58,
   "id": "65169b64-2805-415d-90e2-93c6b5b0e77e",
   "metadata": {
    "scrolled": true
   },
   "outputs": [
    {
     "name": "stdout",
     "output_type": "stream",
     "text": [
      "Self-Concept and Identity|Self-Awareness|Emotional Self-Awareness\n"
     ]
    },
    {
     "data": {
      "text/html": [
       "<div>\n",
       "<style scoped>\n",
       "    .dataframe tbody tr th:only-of-type {\n",
       "        vertical-align: middle;\n",
       "    }\n",
       "\n",
       "    .dataframe tbody tr th {\n",
       "        vertical-align: top;\n",
       "    }\n",
       "\n",
       "    .dataframe thead th {\n",
       "        text-align: right;\n",
       "    }\n",
       "</style>\n",
       "<table border=\"1\" class=\"dataframe\">\n",
       "  <thead>\n",
       "    <tr style=\"text-align: right;\">\n",
       "      <th></th>\n",
       "      <th>0</th>\n",
       "      <th>1</th>\n",
       "    </tr>\n",
       "  </thead>\n",
       "  <tbody>\n",
       "    <tr>\n",
       "      <th>171</th>\n",
       "      <td>Self-Concept and Identity|Identity Development...</td>\n",
       "      <td>0.739083</td>\n",
       "    </tr>\n",
       "    <tr>\n",
       "      <th>462</th>\n",
       "      <td>Self-Concept and Identity|Identity Development...</td>\n",
       "      <td>0.738611</td>\n",
       "    </tr>\n",
       "    <tr>\n",
       "      <th>52</th>\n",
       "      <td>Self-Concept and Identity|Identity Development</td>\n",
       "      <td>0.733867</td>\n",
       "    </tr>\n",
       "    <tr>\n",
       "      <th>711</th>\n",
       "      <td>Self-Concept and Identity|Self-Evaluation|Self...</td>\n",
       "      <td>0.694942</td>\n",
       "    </tr>\n",
       "    <tr>\n",
       "      <th>463</th>\n",
       "      <td>Self-Concept and Identity|Identity Development...</td>\n",
       "      <td>0.684712</td>\n",
       "    </tr>\n",
       "  </tbody>\n",
       "</table>\n",
       "</div>"
      ],
      "text/plain": [
       "                                                     0         1\n",
       "171  Self-Concept and Identity|Identity Development...  0.739083\n",
       "462  Self-Concept and Identity|Identity Development...  0.738611\n",
       "52      Self-Concept and Identity|Identity Development  0.733867\n",
       "711  Self-Concept and Identity|Self-Evaluation|Self...  0.694942\n",
       "463  Self-Concept and Identity|Identity Development...  0.684712"
      ]
     },
     "execution_count": 58,
     "metadata": {},
     "output_type": "execute_result"
    }
   ],
   "source": [
    "# Compare two sets:\n",
    "\n",
    "ValueCompare='Self-Concept and Identity|Self-Awareness|Emotional Self-Awareness'\n",
    "v1=e1[ValueCompare]\n",
    "local_scores=list()\n",
    "\n",
    "for k,v in e2.items():\n",
    "    cos_scores=util.cos_sim(v1, v)[0][0]\n",
    "    top_results=torch.topk(cos_scores, k=1)\n",
    "    top=top_results[0].tolist()\n",
    "    local_scores.append((k,top))\n",
    "\n",
    "print(ValueCompare)\n",
    "#print(local_scores)\n",
    "df=pd.DataFrame(local_scores)\n",
    "df.sort_values(by=1, ascending=False).head()"
   ]
  },
  {
   "cell_type": "code",
   "execution_count": 70,
   "id": "49bee4e4-ce93-4883-9e59-9eef1f4dd952",
   "metadata": {},
   "outputs": [],
   "source": [
    "# Pick two embeddings to compare:\n",
    "e1=Embeddings.get('generated_separate_anthropic_hierarchy_max10_1')\n",
    "e2=Embeddings.get('generated_separate_openai_hierarchy_max10_2')"
   ]
  },
  {
   "cell_type": "code",
   "execution_count": 71,
   "id": "6d01ab05-17c7-4ee4-acef-c35c17b8bf92",
   "metadata": {},
   "outputs": [
    {
     "name": "stdout",
     "output_type": "stream",
     "text": [
      "Motivation and Goal-Directed Behavior|Persistence and Effort\n"
     ]
    },
    {
     "data": {
      "text/html": [
       "<div>\n",
       "<style scoped>\n",
       "    .dataframe tbody tr th:only-of-type {\n",
       "        vertical-align: middle;\n",
       "    }\n",
       "\n",
       "    .dataframe tbody tr th {\n",
       "        vertical-align: top;\n",
       "    }\n",
       "\n",
       "    .dataframe thead th {\n",
       "        text-align: right;\n",
       "    }\n",
       "</style>\n",
       "<table border=\"1\" class=\"dataframe\">\n",
       "  <thead>\n",
       "    <tr style=\"text-align: right;\">\n",
       "      <th></th>\n",
       "      <th>0</th>\n",
       "      <th>1</th>\n",
       "    </tr>\n",
       "  </thead>\n",
       "  <tbody>\n",
       "    <tr>\n",
       "      <th>221</th>\n",
       "      <td>Motivation and Goal-Directed Behavior|Intrinsi...</td>\n",
       "      <td>0.654951</td>\n",
       "    </tr>\n",
       "    <tr>\n",
       "      <th>453</th>\n",
       "      <td>Motivation and Goal-Directed Behavior|Intrinsi...</td>\n",
       "      <td>0.623950</td>\n",
       "    </tr>\n",
       "    <tr>\n",
       "      <th>367</th>\n",
       "      <td>Motivation and Goal-Directed Behavior|Intrinsi...</td>\n",
       "      <td>0.618462</td>\n",
       "    </tr>\n",
       "    <tr>\n",
       "      <th>461</th>\n",
       "      <td>Motivation and Goal-Directed Behavior|Intrinsi...</td>\n",
       "      <td>0.577968</td>\n",
       "    </tr>\n",
       "    <tr>\n",
       "      <th>9</th>\n",
       "      <td>Self-Concept and Identity</td>\n",
       "      <td>0.574817</td>\n",
       "    </tr>\n",
       "  </tbody>\n",
       "</table>\n",
       "</div>"
      ],
      "text/plain": [
       "                                                     0         1\n",
       "221  Motivation and Goal-Directed Behavior|Intrinsi...  0.654951\n",
       "453  Motivation and Goal-Directed Behavior|Intrinsi...  0.623950\n",
       "367  Motivation and Goal-Directed Behavior|Intrinsi...  0.618462\n",
       "461  Motivation and Goal-Directed Behavior|Intrinsi...  0.577968\n",
       "9                            Self-Concept and Identity  0.574817"
      ]
     },
     "execution_count": 71,
     "metadata": {},
     "output_type": "execute_result"
    }
   ],
   "source": [
    "# Compare two sets:\n",
    "\n",
    "ValueCompare='Motivation and Goal-Directed Behavior|Persistence and Effort'\n",
    "v1=e1[ValueCompare]\n",
    "local_scores=list()\n",
    "\n",
    "for k,v in e2.items():\n",
    "    cos_scores=util.cos_sim(v1, v)[0][0]\n",
    "    top_results=torch.topk(cos_scores, k=1)\n",
    "    top=top_results[0].tolist()\n",
    "    local_scores.append((k,top))\n",
    "\n",
    "print(ValueCompare)\n",
    "#print(local_scores)\n",
    "df=pd.DataFrame(local_scores)\n",
    "df.sort_values(by=1, ascending=False).head()"
   ]
  },
  {
   "cell_type": "code",
   "execution_count": 73,
   "id": "33ef917f-5d8a-483e-8a36-8e586063ee25",
   "metadata": {},
   "outputs": [
    {
     "name": "stdout",
     "output_type": "stream",
     "text": [
      "Communication and Language\n"
     ]
    },
    {
     "data": {
      "text/html": [
       "<div>\n",
       "<style scoped>\n",
       "    .dataframe tbody tr th:only-of-type {\n",
       "        vertical-align: middle;\n",
       "    }\n",
       "\n",
       "    .dataframe tbody tr th {\n",
       "        vertical-align: top;\n",
       "    }\n",
       "\n",
       "    .dataframe thead th {\n",
       "        text-align: right;\n",
       "    }\n",
       "</style>\n",
       "<table border=\"1\" class=\"dataframe\">\n",
       "  <thead>\n",
       "    <tr style=\"text-align: right;\">\n",
       "      <th></th>\n",
       "      <th>0</th>\n",
       "      <th>1</th>\n",
       "    </tr>\n",
       "  </thead>\n",
       "  <tbody>\n",
       "    <tr>\n",
       "      <th>68</th>\n",
       "      <td>Communication and Language|Verbal Communicatio...</td>\n",
       "      <td>0.771443</td>\n",
       "    </tr>\n",
       "    <tr>\n",
       "      <th>160</th>\n",
       "      <td>Communication and Language|Verbal Communicatio...</td>\n",
       "      <td>0.757738</td>\n",
       "    </tr>\n",
       "    <tr>\n",
       "      <th>23</th>\n",
       "      <td>Communication and Language|Verbal Communication</td>\n",
       "      <td>0.747757</td>\n",
       "    </tr>\n",
       "    <tr>\n",
       "      <th>308</th>\n",
       "      <td>Communication and Language|Verbal Communicatio...</td>\n",
       "      <td>0.720011</td>\n",
       "    </tr>\n",
       "    <tr>\n",
       "      <th>163</th>\n",
       "      <td>Communication and Language|Auditory Processing...</td>\n",
       "      <td>0.717953</td>\n",
       "    </tr>\n",
       "  </tbody>\n",
       "</table>\n",
       "</div>"
      ],
      "text/plain": [
       "                                                     0         1\n",
       "68   Communication and Language|Verbal Communicatio...  0.771443\n",
       "160  Communication and Language|Verbal Communicatio...  0.757738\n",
       "23     Communication and Language|Verbal Communication  0.747757\n",
       "308  Communication and Language|Verbal Communicatio...  0.720011\n",
       "163  Communication and Language|Auditory Processing...  0.717953"
      ]
     },
     "execution_count": 73,
     "metadata": {},
     "output_type": "execute_result"
    }
   ],
   "source": [
    "# Compare two sets:\n",
    "\n",
    "ValueCompare='Communication and Language'\n",
    "v1=e1[ValueCompare]\n",
    "local_scores=list()\n",
    "\n",
    "for k,v in e2.items():\n",
    "    cos_scores=util.cos_sim(v1, v)[0][0]\n",
    "    top_results=torch.topk(cos_scores, k=1)\n",
    "    top=top_results[0].tolist()\n",
    "    local_scores.append((k,top))\n",
    "\n",
    "print(ValueCompare)\n",
    "#print(local_scores)\n",
    "df=pd.DataFrame(local_scores)\n",
    "df.sort_values(by=1, ascending=False).head()"
   ]
  },
  {
   "cell_type": "code",
   "execution_count": null,
   "id": "84e3a552-0f74-4bdc-8d1b-3fb953358395",
   "metadata": {},
   "outputs": [],
   "source": []
  },
  {
   "cell_type": "code",
   "execution_count": null,
   "id": "665a89c7-a454-45fe-b994-6a6b82559f89",
   "metadata": {},
   "outputs": [],
   "source": []
  },
  {
   "cell_type": "code",
   "execution_count": null,
   "id": "81cea37c-faed-47e1-aa48-a597d6cec790",
   "metadata": {},
   "outputs": [],
   "source": []
  }
 ],
 "metadata": {
  "kernelspec": {
   "display_name": "Python 3 (ipykernel)",
   "language": "python",
   "name": "python3"
  },
  "language_info": {
   "codemirror_mode": {
    "name": "ipython",
    "version": 3
   },
   "file_extension": ".py",
   "mimetype": "text/x-python",
   "name": "python",
   "nbconvert_exporter": "python",
   "pygments_lexer": "ipython3",
   "version": "3.11.7"
  }
 },
 "nbformat": 4,
 "nbformat_minor": 5
}
