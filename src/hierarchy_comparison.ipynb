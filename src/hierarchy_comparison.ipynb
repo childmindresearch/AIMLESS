{
 "cells": [
  {
   "cell_type": "code",
   "execution_count": 1,
   "metadata": {},
   "outputs": [],
   "source": [
    "import pandas as pd\n",
    "import pydantic\n",
    "import openai\n",
    "import os\n",
    "import anthropic\n",
    "import instructor\n",
    "import json"
   ]
  },
  {
   "cell_type": "code",
   "execution_count": 2,
   "metadata": {},
   "outputs": [],
   "source": [
    "hitop = {'title': 'Hierarchical Taxonomy of Psychopathology (HiTOP)', 'description': 'A hierarchical model of psychopathology ranging from broad to specific dimensions', 'children': [{'title': 'General Psychopathology', 'description': 'The highest level factor representing overall psychopathology', 'children': [{'title': 'Spectra', 'description': 'Broad domains of psychopathology', 'children': [{'title': 'Internalizing', 'description': 'Emotional disorders characterized by distress', 'children': [{'title': 'Fear', 'description': 'Anxiety-related disorders'}, {'title': 'Distress', 'description': 'Mood and anxiety disorders characterized by negative affect'}]}, {'title': 'Thought Disorder', 'description': 'Psychotic and related disorders'}, {'title': 'Externalizing', 'description': 'Disorders characterized by disinhibition and antagonism', 'children': [{'title': 'Disinhibited Externalizing', 'description': 'Impulsive and substance use disorders'}, {'title': 'Antagonistic Externalizing', 'description': 'Disorders characterized by interpersonal hostility'}]}, {'title': 'Detachment', 'description': 'Disorders characterized by social withdrawal and anhedonia'}, {'title': 'Somatoform', 'description': 'Disorders characterized by physical symptoms'}]}]}, {'title': 'Syndromes/Disorders', 'description': 'Specific mental health conditions', 'children': []}, {'title': 'Symptom Components and Traits', 'description': 'Specific signs, symptoms, and personality traits', 'children': []}]}"
   ]
  },
  {
   "cell_type": "code",
   "execution_count": 30,
   "metadata": {},
   "outputs": [],
   "source": [
    "# open generated hierarchy json\n",
    "with open('./results/HiTOP_hierarchy.json', 'r') as f:\n",
    "    file = json.load(f)\n",
    "gen = {'dimension_name': 'Hierarchy of Neuropsychology', 'description': 'A hierarchy of neuropsychology.','children':file}"
   ]
  },
  {
   "cell_type": "code",
   "execution_count": 33,
   "metadata": {},
   "outputs": [],
   "source": [
    "region = 'us-west-2'\n",
    "        \n",
    "client = anthropic.AnthropicBedrock(\n",
    "    aws_access_key = os.environ.get('AWS_ACCESS_KEY_ID'),\n",
    "    aws_secret_key = os.environ.get('AWS_SECRET_ACCESS_KEY'),\n",
    "    aws_region=region,\n",
    ")\n",
    "\n",
    "message = client.messages.create(\n",
    "    model='anthropic.claude-3-5-sonnet-20241022-v2:0',\n",
    "    max_tokens=80000,\n",
    "    messages=[\n",
    "        {'role': 'user',\n",
    "         'content': 'Identify the differences between the two hierarchical taxonomies of psychology and mental health. The first user message will contain the first taxonomy. The second will contain a second taxonomy. The two may not be in the exact same json structure, do not focus on formatting differences. First, describe the main differences between the two models. Do not focus on the specific structure of the taxonomies. Instead, focus on the aspects of psychology and mental health that are covered, Next, take a more detailed look at the specific nodes in each model. Are there any nodes included in the first hierarchy that are not well represented in the second?' },\n",
    "        {'role':'user',\n",
    "        'content':str(hitop)},\n",
    "        {'role':'user',\n",
    "        'content':str(gen)}\n",
    "        ],\n",
    "                    )"
   ]
  },
  {
   "cell_type": "code",
   "execution_count": 34,
   "metadata": {},
   "outputs": [
    {
     "name": "stdout",
     "output_type": "stream",
     "text": [
      "Let me analyze the main differences between these two taxonomies and then look at specific nodes:\n",
      "\n",
      "Main Structural/Conceptual Differences:\n",
      "\n",
      "1. Level of Detail: The second taxonomy (Hierarchy of Neuropsychology) is significantly more detailed, providing extensive subcategories and specific manifestations of various disorders.\n",
      "\n",
      "2. Focus Areas: While both cover similar broad categories (Internalizing, Externalizing, Thought Disorder, Detachment, Somatoform), the second taxonomy provides much more elaborate breakdowns of specific symptoms and manifestations.\n",
      "\n",
      "3. Organization: The first taxonomy (HiTOP) is organized more broadly with three main levels (General Psychopathology, Spectra, and Syndromes/Disorders), while the second provides a more detailed branching structure within each major category.\n",
      "\n",
      "Specific Node Analysis - Elements in HiTOP that are less represented in the second taxonomy:\n",
      "\n",
      "1. General Psychopathology Factor:\n",
      "- The first taxonomy explicitly includes a superordinate \"general psychopathology\" factor, which is not clearly represented in the second taxonomy.\n",
      "\n",
      "2. Syndromes/Disorders:\n",
      "- The first taxonomy has a specific category for syndromes/disorders as a distinct level, while the second taxonomy integrates disorders within their respective domains.\n",
      "\n",
      "3. Symptom Components and Traits:\n",
      "- While the second taxonomy includes symptoms, it doesn't have a separate categorical level for personality traits as the HiTOP model does.\n",
      "\n",
      "4. Fear vs. Anxiety:\n",
      "- The first taxonomy makes a distinct separation between \"Fear\" and \"Distress\" within the Internalizing spectrum, while the second taxonomy subsumes these under broader anxiety categories.\n",
      "\n",
      "However, the second taxonomy provides much more detailed breakdowns in several areas:\n",
      "\n",
      "1. Anxiety disorders (with specific types and manifestations)\n",
      "2. Depression (with detailed subtypes and features)\n",
      "3. Externalizing behaviors (with specific manifestations of impulsivity and hyperactivity)\n",
      "4. Thought disorders (with detailed breakdowns of delusions and hallucinations)\n",
      "5. Somatoform disorders (with specific manifestations and symptom patterns)\n",
      "\n",
      "In essence, while the first taxonomy provides a more structured theoretical framework, the second taxonomy offers a more practical, detailed breakdown of specific conditions and their manifestations.\n"
     ]
    }
   ],
   "source": [
    "print(message.content[0].text)"
   ]
  }
 ],
 "metadata": {
  "kernelspec": {
   "display_name": "aimless-mjN-JP9b-py3.11",
   "language": "python",
   "name": "python3"
  },
  "language_info": {
   "codemirror_mode": {
    "name": "ipython",
    "version": 3
   },
   "file_extension": ".py",
   "mimetype": "text/x-python",
   "name": "python",
   "nbconvert_exporter": "python",
   "pygments_lexer": "ipython3",
   "version": "3.11.2"
  }
 },
 "nbformat": 4,
 "nbformat_minor": 2
}
